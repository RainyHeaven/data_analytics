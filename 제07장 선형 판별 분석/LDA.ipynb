{
 "cells": [
  {
   "cell_type": "code",
   "execution_count": 112,
   "id": "2af37281",
   "metadata": {},
   "outputs": [],
   "source": [
    "import pandas as pd\n",
    "import numpy as np\n",
    "%matplotlib inline"
   ]
  },
  {
   "cell_type": "code",
   "execution_count": null,
   "id": "609e8f29",
   "metadata": {},
   "outputs": [],
   "source": []
  },
  {
   "cell_type": "code",
   "execution_count": 33,
   "id": "d4c2b781",
   "metadata": {},
   "outputs": [],
   "source": [
    "data = pd.read_spss('loan_roc.sav')"
   ]
  },
  {
   "cell_type": "code",
   "execution_count": 53,
   "id": "29a767a7",
   "metadata": {},
   "outputs": [
    {
     "data": {
      "text/html": [
       "<div>\n",
       "<style scoped>\n",
       "    .dataframe tbody tr th:only-of-type {\n",
       "        vertical-align: middle;\n",
       "    }\n",
       "\n",
       "    .dataframe tbody tr th {\n",
       "        vertical-align: top;\n",
       "    }\n",
       "\n",
       "    .dataframe thead th {\n",
       "        text-align: right;\n",
       "    }\n",
       "</style>\n",
       "<table border=\"1\" class=\"dataframe\">\n",
       "  <thead>\n",
       "    <tr style=\"text-align: right;\">\n",
       "      <th></th>\n",
       "      <th>E1</th>\n",
       "      <th>E2</th>\n",
       "      <th>F</th>\n",
       "    </tr>\n",
       "  </thead>\n",
       "  <tbody>\n",
       "    <tr>\n",
       "      <th>0</th>\n",
       "      <td>72</td>\n",
       "      <td>87</td>\n",
       "      <td>0</td>\n",
       "    </tr>\n",
       "    <tr>\n",
       "      <th>1</th>\n",
       "      <td>50</td>\n",
       "      <td>88</td>\n",
       "      <td>0</td>\n",
       "    </tr>\n",
       "    <tr>\n",
       "      <th>2</th>\n",
       "      <td>80</td>\n",
       "      <td>67</td>\n",
       "      <td>0</td>\n",
       "    </tr>\n",
       "    <tr>\n",
       "      <th>3</th>\n",
       "      <td>66</td>\n",
       "      <td>76</td>\n",
       "      <td>0</td>\n",
       "    </tr>\n",
       "    <tr>\n",
       "      <th>4</th>\n",
       "      <td>50</td>\n",
       "      <td>82</td>\n",
       "      <td>0</td>\n",
       "    </tr>\n",
       "    <tr>\n",
       "      <th>5</th>\n",
       "      <td>33</td>\n",
       "      <td>87</td>\n",
       "      <td>0</td>\n",
       "    </tr>\n",
       "    <tr>\n",
       "      <th>6</th>\n",
       "      <td>58</td>\n",
       "      <td>85</td>\n",
       "      <td>0</td>\n",
       "    </tr>\n",
       "    <tr>\n",
       "      <th>7</th>\n",
       "      <td>96</td>\n",
       "      <td>64</td>\n",
       "      <td>0</td>\n",
       "    </tr>\n",
       "    <tr>\n",
       "      <th>8</th>\n",
       "      <td>65</td>\n",
       "      <td>35</td>\n",
       "      <td>1</td>\n",
       "    </tr>\n",
       "    <tr>\n",
       "      <th>9</th>\n",
       "      <td>39</td>\n",
       "      <td>86</td>\n",
       "      <td>1</td>\n",
       "    </tr>\n",
       "    <tr>\n",
       "      <th>10</th>\n",
       "      <td>57</td>\n",
       "      <td>66</td>\n",
       "      <td>0</td>\n",
       "    </tr>\n",
       "    <tr>\n",
       "      <th>11</th>\n",
       "      <td>61</td>\n",
       "      <td>80</td>\n",
       "      <td>0</td>\n",
       "    </tr>\n",
       "    <tr>\n",
       "      <th>12</th>\n",
       "      <td>43</td>\n",
       "      <td>75</td>\n",
       "      <td>1</td>\n",
       "    </tr>\n",
       "    <tr>\n",
       "      <th>13</th>\n",
       "      <td>45</td>\n",
       "      <td>51</td>\n",
       "      <td>1</td>\n",
       "    </tr>\n",
       "    <tr>\n",
       "      <th>14</th>\n",
       "      <td>52</td>\n",
       "      <td>60</td>\n",
       "      <td>1</td>\n",
       "    </tr>\n",
       "  </tbody>\n",
       "</table>\n",
       "</div>"
      ],
      "text/plain": [
       "    E1  E2  F\n",
       "0   72  87  0\n",
       "1   50  88  0\n",
       "2   80  67  0\n",
       "3   66  76  0\n",
       "4   50  82  0\n",
       "5   33  87  0\n",
       "6   58  85  0\n",
       "7   96  64  0\n",
       "8   65  35  1\n",
       "9   39  86  1\n",
       "10  57  66  0\n",
       "11  61  80  0\n",
       "12  43  75  1\n",
       "13  45  51  1\n",
       "14  52  60  1"
      ]
     },
     "execution_count": 53,
     "metadata": {},
     "output_type": "execute_result"
    }
   ],
   "source": [
    "e1_train = [72,50,80,66,50,33,58,96,65,39,57,61,43,45,52]\n",
    "e2_train = [87,88,67,76,82,87,85,64,35,86,66,80,75,51,60]\n",
    "f_train = [0,0,0,0,0,0,0,0,1,1,0,0,1,1,1]\n",
    "train_data = pd.DataFrame(columns=['E1', 'E2', 'F'])\n",
    "train_data['E1'] = e1_train\n",
    "train_data['E2'] = e2_train\n",
    "train_data['F'] = f_train\n",
    "train_data"
   ]
  },
  {
   "cell_type": "code",
   "execution_count": 54,
   "id": "3195c098",
   "metadata": {},
   "outputs": [
    {
     "data": {
      "text/html": [
       "<div>\n",
       "<style scoped>\n",
       "    .dataframe tbody tr th:only-of-type {\n",
       "        vertical-align: middle;\n",
       "    }\n",
       "\n",
       "    .dataframe tbody tr th {\n",
       "        vertical-align: top;\n",
       "    }\n",
       "\n",
       "    .dataframe thead th {\n",
       "        text-align: right;\n",
       "    }\n",
       "</style>\n",
       "<table border=\"1\" class=\"dataframe\">\n",
       "  <thead>\n",
       "    <tr style=\"text-align: right;\">\n",
       "      <th></th>\n",
       "      <th>E1</th>\n",
       "      <th>E2</th>\n",
       "      <th>F</th>\n",
       "    </tr>\n",
       "  </thead>\n",
       "  <tbody>\n",
       "    <tr>\n",
       "      <th>0</th>\n",
       "      <td>44</td>\n",
       "      <td>82</td>\n",
       "      <td>0</td>\n",
       "    </tr>\n",
       "    <tr>\n",
       "      <th>1</th>\n",
       "      <td>38</td>\n",
       "      <td>87</td>\n",
       "      <td>1</td>\n",
       "    </tr>\n",
       "    <tr>\n",
       "      <th>2</th>\n",
       "      <td>83</td>\n",
       "      <td>68</td>\n",
       "      <td>0</td>\n",
       "    </tr>\n",
       "    <tr>\n",
       "      <th>3</th>\n",
       "      <td>67</td>\n",
       "      <td>59</td>\n",
       "      <td>0</td>\n",
       "    </tr>\n",
       "    <tr>\n",
       "      <th>4</th>\n",
       "      <td>49</td>\n",
       "      <td>48</td>\n",
       "      <td>1</td>\n",
       "    </tr>\n",
       "  </tbody>\n",
       "</table>\n",
       "</div>"
      ],
      "text/plain": [
       "   E1  E2  F\n",
       "0  44  82  0\n",
       "1  38  87  1\n",
       "2  83  68  0\n",
       "3  67  59  0\n",
       "4  49  48  1"
      ]
     },
     "execution_count": 54,
     "metadata": {},
     "output_type": "execute_result"
    }
   ],
   "source": [
    "e1_test = [44,38,83,67,49]\n",
    "e2_test = [82,87,68,59,48]\n",
    "f_test = [0,1,0,0,1]\n",
    "test_data = pd.DataFrame(columns=['E1', 'E2', 'F'])\n",
    "test_data['E1'] = e1_test\n",
    "test_data['E2'] = e2_test\n",
    "test_data['F'] = f_test\n",
    "test_data"
   ]
  },
  {
   "cell_type": "markdown",
   "id": "1894270d",
   "metadata": {},
   "source": [
    "### 중심과의 거리를 이용하는 방법"
   ]
  },
  {
   "cell_type": "code",
   "execution_count": 55,
   "id": "7f8d853d",
   "metadata": {},
   "outputs": [
    {
     "data": {
      "text/plain": [
       "E1    62.3\n",
       "E2    78.2\n",
       "F      0.0\n",
       "dtype: float64"
      ]
     },
     "execution_count": 55,
     "metadata": {},
     "output_type": "execute_result"
    }
   ],
   "source": [
    "# 클래스별 중심: 클래스 0\n",
    "train_data[train_data.F==0].mean()"
   ]
  },
  {
   "cell_type": "code",
   "execution_count": 56,
   "id": "d2e5a978",
   "metadata": {},
   "outputs": [
    {
     "data": {
      "text/plain": [
       "E1    48.8\n",
       "E2    61.4\n",
       "F      1.0\n",
       "dtype: float64"
      ]
     },
     "execution_count": 56,
     "metadata": {},
     "output_type": "execute_result"
    }
   ],
   "source": [
    "# 클래스별 중심: 클래스 1\n",
    "train_data[train_data.F==1].mean()"
   ]
  },
  {
   "cell_type": "code",
   "execution_count": 57,
   "id": "af7d6e8a",
   "metadata": {},
   "outputs": [
    {
     "name": "stdout",
     "output_type": "stream",
     "text": [
      "[72 87  0]\n",
      "[50 88  0]\n",
      "[80 67  0]\n",
      "[66 76  0]\n",
      "[50 82  0]\n",
      "[33 87  0]\n",
      "[58 85  0]\n",
      "[96 64  0]\n",
      "[65 35  1]\n",
      "[39 86  1]\n",
      "[57 66  0]\n",
      "[61 80  0]\n",
      "[43 75  1]\n",
      "[45 51  1]\n",
      "[52 60  1]\n"
     ]
    }
   ],
   "source": [
    "for col in train_data.values:\n",
    "    print(col)"
   ]
  },
  {
   "cell_type": "code",
   "execution_count": 58,
   "id": "9dd18a23",
   "metadata": {},
   "outputs": [
    {
     "data": {
      "text/plain": [
       "[0, 0, 0, 0, 0, 1, 0, 0, 1, 0, 1, 0, 1, 1, 1]"
      ]
     },
     "execution_count": 58,
     "metadata": {},
     "output_type": "execute_result"
    }
   ],
   "source": [
    "pred = []\n",
    "pred_data = train_data\n",
    "avg_0 = pred_data[pred_data.F==0].mean()[:-1]\n",
    "avg_1 = pred_data[pred_data.F==1].mean()[:-1]\n",
    "for e1, e2, f in pred_data.values:\n",
    "    d_0 = np.sqrt((e1 - avg_0.E1)**2 + (e2 - avg_0.E2)**2)\n",
    "    d_1 = np.sqrt((e1 - avg_1.E1)**2 + (e2 - avg_1.E2)**2)\n",
    "    if d_0 > d_1:\n",
    "        pred.append(1)\n",
    "    else:\n",
    "        pred.append(0)\n",
    "pred"
   ]
  },
  {
   "cell_type": "code",
   "execution_count": 59,
   "id": "205c6ad2",
   "metadata": {},
   "outputs": [
    {
     "data": {
      "text/html": [
       "<div>\n",
       "<style scoped>\n",
       "    .dataframe tbody tr th:only-of-type {\n",
       "        vertical-align: middle;\n",
       "    }\n",
       "\n",
       "    .dataframe tbody tr th {\n",
       "        vertical-align: top;\n",
       "    }\n",
       "\n",
       "    .dataframe thead th {\n",
       "        text-align: right;\n",
       "    }\n",
       "</style>\n",
       "<table border=\"1\" class=\"dataframe\">\n",
       "  <thead>\n",
       "    <tr style=\"text-align: right;\">\n",
       "      <th></th>\n",
       "      <th>E1</th>\n",
       "      <th>E2</th>\n",
       "      <th>F</th>\n",
       "      <th>pred</th>\n",
       "    </tr>\n",
       "  </thead>\n",
       "  <tbody>\n",
       "    <tr>\n",
       "      <th>0</th>\n",
       "      <td>72</td>\n",
       "      <td>87</td>\n",
       "      <td>0</td>\n",
       "      <td>0</td>\n",
       "    </tr>\n",
       "    <tr>\n",
       "      <th>1</th>\n",
       "      <td>50</td>\n",
       "      <td>88</td>\n",
       "      <td>0</td>\n",
       "      <td>0</td>\n",
       "    </tr>\n",
       "    <tr>\n",
       "      <th>2</th>\n",
       "      <td>80</td>\n",
       "      <td>67</td>\n",
       "      <td>0</td>\n",
       "      <td>0</td>\n",
       "    </tr>\n",
       "    <tr>\n",
       "      <th>3</th>\n",
       "      <td>66</td>\n",
       "      <td>76</td>\n",
       "      <td>0</td>\n",
       "      <td>0</td>\n",
       "    </tr>\n",
       "    <tr>\n",
       "      <th>4</th>\n",
       "      <td>50</td>\n",
       "      <td>82</td>\n",
       "      <td>0</td>\n",
       "      <td>0</td>\n",
       "    </tr>\n",
       "    <tr>\n",
       "      <th>5</th>\n",
       "      <td>33</td>\n",
       "      <td>87</td>\n",
       "      <td>0</td>\n",
       "      <td>1</td>\n",
       "    </tr>\n",
       "    <tr>\n",
       "      <th>6</th>\n",
       "      <td>58</td>\n",
       "      <td>85</td>\n",
       "      <td>0</td>\n",
       "      <td>0</td>\n",
       "    </tr>\n",
       "    <tr>\n",
       "      <th>7</th>\n",
       "      <td>96</td>\n",
       "      <td>64</td>\n",
       "      <td>0</td>\n",
       "      <td>0</td>\n",
       "    </tr>\n",
       "    <tr>\n",
       "      <th>8</th>\n",
       "      <td>65</td>\n",
       "      <td>35</td>\n",
       "      <td>1</td>\n",
       "      <td>1</td>\n",
       "    </tr>\n",
       "    <tr>\n",
       "      <th>9</th>\n",
       "      <td>39</td>\n",
       "      <td>86</td>\n",
       "      <td>1</td>\n",
       "      <td>0</td>\n",
       "    </tr>\n",
       "    <tr>\n",
       "      <th>10</th>\n",
       "      <td>57</td>\n",
       "      <td>66</td>\n",
       "      <td>0</td>\n",
       "      <td>1</td>\n",
       "    </tr>\n",
       "    <tr>\n",
       "      <th>11</th>\n",
       "      <td>61</td>\n",
       "      <td>80</td>\n",
       "      <td>0</td>\n",
       "      <td>0</td>\n",
       "    </tr>\n",
       "    <tr>\n",
       "      <th>12</th>\n",
       "      <td>43</td>\n",
       "      <td>75</td>\n",
       "      <td>1</td>\n",
       "      <td>1</td>\n",
       "    </tr>\n",
       "    <tr>\n",
       "      <th>13</th>\n",
       "      <td>45</td>\n",
       "      <td>51</td>\n",
       "      <td>1</td>\n",
       "      <td>1</td>\n",
       "    </tr>\n",
       "    <tr>\n",
       "      <th>14</th>\n",
       "      <td>52</td>\n",
       "      <td>60</td>\n",
       "      <td>1</td>\n",
       "      <td>1</td>\n",
       "    </tr>\n",
       "  </tbody>\n",
       "</table>\n",
       "</div>"
      ],
      "text/plain": [
       "    E1  E2  F  pred\n",
       "0   72  87  0     0\n",
       "1   50  88  0     0\n",
       "2   80  67  0     0\n",
       "3   66  76  0     0\n",
       "4   50  82  0     0\n",
       "5   33  87  0     1\n",
       "6   58  85  0     0\n",
       "7   96  64  0     0\n",
       "8   65  35  1     1\n",
       "9   39  86  1     0\n",
       "10  57  66  0     1\n",
       "11  61  80  0     0\n",
       "12  43  75  1     1\n",
       "13  45  51  1     1\n",
       "14  52  60  1     1"
      ]
     },
     "execution_count": 59,
     "metadata": {},
     "output_type": "execute_result"
    }
   ],
   "source": [
    "train_data['pred'] = pred\n",
    "train_data"
   ]
  },
  {
   "cell_type": "code",
   "execution_count": 60,
   "id": "6e22921f",
   "metadata": {},
   "outputs": [
    {
     "data": {
      "text/plain": [
       "0.8"
      ]
     },
     "execution_count": 60,
     "metadata": {},
     "output_type": "execute_result"
    }
   ],
   "source": [
    "len(train_data[train_data.F==train_data.pred]) / len(train_data)"
   ]
  },
  {
   "cell_type": "code",
   "execution_count": 61,
   "id": "ef6cf93f",
   "metadata": {},
   "outputs": [
    {
     "data": {
      "text/plain": [
       "[0, 0, 0, 1, 1]"
      ]
     },
     "execution_count": 61,
     "metadata": {},
     "output_type": "execute_result"
    }
   ],
   "source": [
    "pred = []\n",
    "pred_data = test_data\n",
    "# avg_0 = pred_data[pred_data.F==0].mean()[:-1]\n",
    "# avg_1 = pred_data[pred_data.F==1].mean()[:-1]\n",
    "for e1, e2, f in pred_data.values:\n",
    "    d_0 = np.sqrt((e1 - avg_0.E1)**2 + (e2 - avg_0.E2)**2)\n",
    "    d_1 = np.sqrt((e1 - avg_1.E1)**2 + (e2 - avg_1.E2)**2)\n",
    "    if d_0 > d_1:\n",
    "        pred.append(1)\n",
    "    else:\n",
    "        pred.append(0)\n",
    "pred"
   ]
  },
  {
   "cell_type": "code",
   "execution_count": 62,
   "id": "d81d66fb",
   "metadata": {},
   "outputs": [
    {
     "data": {
      "text/html": [
       "<div>\n",
       "<style scoped>\n",
       "    .dataframe tbody tr th:only-of-type {\n",
       "        vertical-align: middle;\n",
       "    }\n",
       "\n",
       "    .dataframe tbody tr th {\n",
       "        vertical-align: top;\n",
       "    }\n",
       "\n",
       "    .dataframe thead th {\n",
       "        text-align: right;\n",
       "    }\n",
       "</style>\n",
       "<table border=\"1\" class=\"dataframe\">\n",
       "  <thead>\n",
       "    <tr style=\"text-align: right;\">\n",
       "      <th></th>\n",
       "      <th>E1</th>\n",
       "      <th>E2</th>\n",
       "      <th>F</th>\n",
       "      <th>pred</th>\n",
       "    </tr>\n",
       "  </thead>\n",
       "  <tbody>\n",
       "    <tr>\n",
       "      <th>0</th>\n",
       "      <td>44</td>\n",
       "      <td>82</td>\n",
       "      <td>0</td>\n",
       "      <td>0</td>\n",
       "    </tr>\n",
       "    <tr>\n",
       "      <th>1</th>\n",
       "      <td>38</td>\n",
       "      <td>87</td>\n",
       "      <td>1</td>\n",
       "      <td>0</td>\n",
       "    </tr>\n",
       "    <tr>\n",
       "      <th>2</th>\n",
       "      <td>83</td>\n",
       "      <td>68</td>\n",
       "      <td>0</td>\n",
       "      <td>0</td>\n",
       "    </tr>\n",
       "    <tr>\n",
       "      <th>3</th>\n",
       "      <td>67</td>\n",
       "      <td>59</td>\n",
       "      <td>0</td>\n",
       "      <td>1</td>\n",
       "    </tr>\n",
       "    <tr>\n",
       "      <th>4</th>\n",
       "      <td>49</td>\n",
       "      <td>48</td>\n",
       "      <td>1</td>\n",
       "      <td>1</td>\n",
       "    </tr>\n",
       "  </tbody>\n",
       "</table>\n",
       "</div>"
      ],
      "text/plain": [
       "   E1  E2  F  pred\n",
       "0  44  82  0     0\n",
       "1  38  87  1     0\n",
       "2  83  68  0     0\n",
       "3  67  59  0     1\n",
       "4  49  48  1     1"
      ]
     },
     "execution_count": 62,
     "metadata": {},
     "output_type": "execute_result"
    }
   ],
   "source": [
    "test_data['pred'] = pred\n",
    "test_data"
   ]
  },
  {
   "cell_type": "code",
   "execution_count": 63,
   "id": "71b4874f",
   "metadata": {},
   "outputs": [
    {
     "data": {
      "text/plain": [
       "0.6"
      ]
     },
     "execution_count": 63,
     "metadata": {},
     "output_type": "execute_result"
    }
   ],
   "source": [
    "len(test_data[test_data.F==test_data.pred]) / len(test_data)"
   ]
  },
  {
   "cell_type": "markdown",
   "id": "68d2eb92",
   "metadata": {},
   "source": [
    "### 회귀를 이용하는 방법"
   ]
  },
  {
   "cell_type": "code",
   "execution_count": 65,
   "id": "555d9cfe",
   "metadata": {},
   "outputs": [],
   "source": [
    "import statsmodels.formula.api as sm"
   ]
  },
  {
   "cell_type": "code",
   "execution_count": 69,
   "id": "894a5773",
   "metadata": {},
   "outputs": [
    {
     "name": "stdout",
     "output_type": "stream",
     "text": [
      "                            OLS Regression Results                            \n",
      "==============================================================================\n",
      "Dep. Variable:                      F   R-squared:                       0.599\n",
      "Model:                            OLS   Adj. R-squared:                  0.532\n",
      "Method:                 Least Squares   F-statistic:                     8.946\n",
      "Date:                Tue, 08 Feb 2022   Prob (F-statistic):            0.00419\n",
      "Time:                        00:20:48   Log-Likelihood:                -3.1586\n",
      "No. Observations:                  15   AIC:                             12.32\n",
      "Df Residuals:                      12   BIC:                             14.44\n",
      "Df Model:                           2                                         \n",
      "Covariance Type:            nonrobust                                         \n",
      "==============================================================================\n",
      "                 coef    std err          t      P>|t|      [0.025      0.975]\n",
      "------------------------------------------------------------------------------\n",
      "Intercept      2.9106      0.615      4.730      0.000       1.570       4.251\n",
      "E1            -0.0173      0.006     -3.075      0.010      -0.030      -0.005\n",
      "E2            -0.0217      0.006     -3.619      0.004      -0.035      -0.009\n",
      "==============================================================================\n",
      "Omnibus:                        0.721   Durbin-Watson:                   2.180\n",
      "Prob(Omnibus):                  0.697   Jarque-Bera (JB):                0.451\n",
      "Skew:                           0.394   Prob(JB):                        0.798\n",
      "Kurtosis:                       2.684   Cond. No.                         669.\n",
      "==============================================================================\n",
      "\n",
      "Notes:\n",
      "[1] Standard Errors assume that the covariance matrix of the errors is correctly specified.\n"
     ]
    }
   ],
   "source": [
    "model = sm.ols('F ~ E1+E2', data=train_data).fit()\n",
    "print(model.summary())"
   ]
  },
  {
   "cell_type": "code",
   "execution_count": 70,
   "id": "397b1923",
   "metadata": {},
   "outputs": [
    {
     "data": {
      "text/plain": [
       "Intercept    2.910559\n",
       "E1          -0.017306\n",
       "E2          -0.021721\n",
       "dtype: float64"
      ]
     },
     "execution_count": 70,
     "metadata": {},
     "output_type": "execute_result"
    }
   ],
   "source": [
    "model.params"
   ]
  },
  {
   "cell_type": "code",
   "execution_count": 74,
   "id": "da46ed92",
   "metadata": {},
   "outputs": [
    {
     "data": {
      "text/html": [
       "<div>\n",
       "<style scoped>\n",
       "    .dataframe tbody tr th:only-of-type {\n",
       "        vertical-align: middle;\n",
       "    }\n",
       "\n",
       "    .dataframe tbody tr th {\n",
       "        vertical-align: top;\n",
       "    }\n",
       "\n",
       "    .dataframe thead th {\n",
       "        text-align: right;\n",
       "    }\n",
       "</style>\n",
       "<table border=\"1\" class=\"dataframe\">\n",
       "  <thead>\n",
       "    <tr style=\"text-align: right;\">\n",
       "      <th></th>\n",
       "      <th>E1</th>\n",
       "      <th>E2</th>\n",
       "      <th>F</th>\n",
       "      <th>pred</th>\n",
       "      <th>reg_pred</th>\n",
       "    </tr>\n",
       "  </thead>\n",
       "  <tbody>\n",
       "    <tr>\n",
       "      <th>0</th>\n",
       "      <td>72</td>\n",
       "      <td>87</td>\n",
       "      <td>0</td>\n",
       "      <td>0</td>\n",
       "      <td>-0.225193</td>\n",
       "    </tr>\n",
       "    <tr>\n",
       "      <th>1</th>\n",
       "      <td>50</td>\n",
       "      <td>88</td>\n",
       "      <td>0</td>\n",
       "      <td>0</td>\n",
       "      <td>0.133814</td>\n",
       "    </tr>\n",
       "    <tr>\n",
       "      <th>2</th>\n",
       "      <td>80</td>\n",
       "      <td>67</td>\n",
       "      <td>0</td>\n",
       "      <td>0</td>\n",
       "      <td>0.070782</td>\n",
       "    </tr>\n",
       "    <tr>\n",
       "      <th>3</th>\n",
       "      <td>66</td>\n",
       "      <td>76</td>\n",
       "      <td>0</td>\n",
       "      <td>0</td>\n",
       "      <td>0.117574</td>\n",
       "    </tr>\n",
       "    <tr>\n",
       "      <th>4</th>\n",
       "      <td>50</td>\n",
       "      <td>82</td>\n",
       "      <td>0</td>\n",
       "      <td>0</td>\n",
       "      <td>0.264141</td>\n",
       "    </tr>\n",
       "    <tr>\n",
       "      <th>5</th>\n",
       "      <td>33</td>\n",
       "      <td>87</td>\n",
       "      <td>0</td>\n",
       "      <td>1</td>\n",
       "      <td>0.449734</td>\n",
       "    </tr>\n",
       "    <tr>\n",
       "      <th>6</th>\n",
       "      <td>58</td>\n",
       "      <td>85</td>\n",
       "      <td>0</td>\n",
       "      <td>0</td>\n",
       "      <td>0.060531</td>\n",
       "    </tr>\n",
       "    <tr>\n",
       "      <th>7</th>\n",
       "      <td>96</td>\n",
       "      <td>64</td>\n",
       "      <td>0</td>\n",
       "      <td>0</td>\n",
       "      <td>-0.140947</td>\n",
       "    </tr>\n",
       "    <tr>\n",
       "      <th>8</th>\n",
       "      <td>65</td>\n",
       "      <td>35</td>\n",
       "      <td>1</td>\n",
       "      <td>1</td>\n",
       "      <td>1.025444</td>\n",
       "    </tr>\n",
       "    <tr>\n",
       "      <th>9</th>\n",
       "      <td>39</td>\n",
       "      <td>86</td>\n",
       "      <td>1</td>\n",
       "      <td>0</td>\n",
       "      <td>0.367620</td>\n",
       "    </tr>\n",
       "    <tr>\n",
       "      <th>10</th>\n",
       "      <td>57</td>\n",
       "      <td>66</td>\n",
       "      <td>0</td>\n",
       "      <td>1</td>\n",
       "      <td>0.490537</td>\n",
       "    </tr>\n",
       "    <tr>\n",
       "      <th>11</th>\n",
       "      <td>61</td>\n",
       "      <td>80</td>\n",
       "      <td>0</td>\n",
       "      <td>0</td>\n",
       "      <td>0.117219</td>\n",
       "    </tr>\n",
       "    <tr>\n",
       "      <th>12</th>\n",
       "      <td>43</td>\n",
       "      <td>75</td>\n",
       "      <td>1</td>\n",
       "      <td>1</td>\n",
       "      <td>0.537329</td>\n",
       "    </tr>\n",
       "    <tr>\n",
       "      <th>13</th>\n",
       "      <td>45</td>\n",
       "      <td>51</td>\n",
       "      <td>1</td>\n",
       "      <td>1</td>\n",
       "      <td>1.024023</td>\n",
       "    </tr>\n",
       "    <tr>\n",
       "      <th>14</th>\n",
       "      <td>52</td>\n",
       "      <td>60</td>\n",
       "      <td>1</td>\n",
       "      <td>1</td>\n",
       "      <td>0.707392</td>\n",
       "    </tr>\n",
       "  </tbody>\n",
       "</table>\n",
       "</div>"
      ],
      "text/plain": [
       "    E1  E2  F  pred  reg_pred\n",
       "0   72  87  0     0 -0.225193\n",
       "1   50  88  0     0  0.133814\n",
       "2   80  67  0     0  0.070782\n",
       "3   66  76  0     0  0.117574\n",
       "4   50  82  0     0  0.264141\n",
       "5   33  87  0     1  0.449734\n",
       "6   58  85  0     0  0.060531\n",
       "7   96  64  0     0 -0.140947\n",
       "8   65  35  1     1  1.025444\n",
       "9   39  86  1     0  0.367620\n",
       "10  57  66  0     1  0.490537\n",
       "11  61  80  0     0  0.117219\n",
       "12  43  75  1     1  0.537329\n",
       "13  45  51  1     1  1.024023\n",
       "14  52  60  1     1  0.707392"
      ]
     },
     "execution_count": 74,
     "metadata": {},
     "output_type": "execute_result"
    }
   ],
   "source": [
    "train_data['reg_pred'] = model.params.Intercept + model.params.E1*train_data.E1 + model.params.E2*train_data.E2\n",
    "train_data"
   ]
  },
  {
   "cell_type": "code",
   "execution_count": 87,
   "id": "1e5fa5c4",
   "metadata": {},
   "outputs": [],
   "source": [
    "train_data['reg_F'] = (train_data.reg_pred > train_data.groupby('F').mean().mean().reg_pred).astype(int)"
   ]
  },
  {
   "cell_type": "code",
   "execution_count": 89,
   "id": "737be6ef",
   "metadata": {},
   "outputs": [
    {
     "data": {
      "text/plain": [
       "0.8"
      ]
     },
     "execution_count": 89,
     "metadata": {},
     "output_type": "execute_result"
    }
   ],
   "source": [
    "len(train_data[train_data.F==train_data.reg_F]) / len(train_data)"
   ]
  },
  {
   "cell_type": "code",
   "execution_count": 91,
   "id": "67f4c182",
   "metadata": {},
   "outputs": [],
   "source": [
    "test_data['reg_pred'] = model.params.Intercept + model.params.E1*test_data.E1 + model.params.E2*test_data.E2\n",
    "test_data['reg_F'] = (test_data.reg_pred > train_data.groupby('F').mean().mean().reg_pred).astype(int)"
   ]
  },
  {
   "cell_type": "code",
   "execution_count": 92,
   "id": "427894ca",
   "metadata": {},
   "outputs": [
    {
     "data": {
      "text/plain": [
       "0.6"
      ]
     },
     "execution_count": 92,
     "metadata": {},
     "output_type": "execute_result"
    }
   ],
   "source": [
    "len(test_data[test_data.F==test_data.reg_F]) / len(test_data)"
   ]
  },
  {
   "cell_type": "code",
   "execution_count": 127,
   "id": "08830520",
   "metadata": {},
   "outputs": [
    {
     "data": {
      "text/plain": [
       "Intercept    2.910559\n",
       "E1          -0.017306\n",
       "E2          -0.021721\n",
       "dtype: float64"
      ]
     },
     "execution_count": 127,
     "metadata": {},
     "output_type": "execute_result"
    }
   ],
   "source": [
    "model.params"
   ]
  },
  {
   "cell_type": "code",
   "execution_count": 211,
   "id": "18f9e803",
   "metadata": {},
   "outputs": [
    {
     "data": {
      "text/plain": [
       "Text(85, 42, 'E1')"
      ]
     },
     "execution_count": 211,
     "metadata": {},
     "output_type": "execute_result"
    },
    {
     "data": {
      "image/png": "[encoded data removed]",
      "text/plain": [
       "<Figure size 936x360 with 2 Axes>"
      ]
     },
     "metadata": {
      "needs_background": "dark"
     },
     "output_type": "display_data"
    }
   ],
   "source": [
    "fig, axes = plt.subplots(1, 2, figsize=(13,5))\n",
    "axes[0].scatter(x=train_data[train_data.F!=train_data.reg_F].E1, y=train_data[train_data.F!=train_data.reg_F].E2, c='w', edgecolor='r', s=110, lw=1.6)\n",
    "axes[0].scatter(x=train_data.E1+0.1, y=train_data.E2-0.1, c=['k' if val else 'w' for val in train_data.F], edgecolor='k')\n",
    "axes[0].plot([33, 95], [114.1705 - 0.7972 * num for num in [33, 95]], color='k')\n",
    "axes[0].set_yticks([25, 45, 65, 85])\n",
    "axes[0].set_xlim(30, 98)\n",
    "axes[0].grid(axis='x')\n",
    "axes[0].tick_params(axis='both', colors='w')\n",
    "axes[0].text(25,90, 'E2', color='w', fontsize=13)\n",
    "axes[0].text(95,20, 'E1', color='w', fontsize=13)\n",
    "\n",
    "axes[1].scatter(x=test_data[test_data.F!=test_data.reg_F].E1, y=test_data[test_data.F!=test_data.reg_F].E2, c='w', edgecolor='r', s=110, lw=1.6)\n",
    "axes[1].scatter(x=test_data.E1+0.1, y=test_data.E2-0.1, c=['k' if val else 'w' for val in test_data.F], edgecolor='k')\n",
    "axes[1].plot([37, 85], [114.1705 - 0.7972 * num for num in [37, 85]], color='k')\n",
    "axes[1].set_yticks([45, 55, 65, 75, 85])\n",
    "axes[1].set_xticks([35, 45, 55, 65, 75])\n",
    "axes[1].set_xlim(35, 90)\n",
    "axes[1].set_ylim(45, 90)\n",
    "axes[1].grid(axis='x')\n",
    "axes[1].tick_params(axis='both', colors='w')\n",
    "axes[1].text(31,88, 'E2', color='w', fontsize=13)\n",
    "axes[1].text(85,42, 'E1', color='w', fontsize=13)\n"
   ]
  },
  {
   "cell_type": "code",
   "execution_count": null,
   "id": "3055032b",
   "metadata": {},
   "outputs": [],
   "source": []
  },
  {
   "cell_type": "code",
   "execution_count": 288,
   "id": "cca8d091",
   "metadata": {},
   "outputs": [
    {
     "name": "stdout",
     "output_type": "stream",
     "text": [
      "E1    62.3\n",
      "E2    78.2\n",
      "dtype: float64\n",
      "E1    48.8\n",
      "E2    61.4\n",
      "dtype: float64\n",
      "E1    13.5\n",
      "E2    16.8\n",
      "dtype: float64\n"
     ]
    }
   ],
   "source": [
    "u_0 = train_data[train_data.F==0].mean()[['E1', 'E2']]\n",
    "u_1 = train_data[train_data.F==1].mean()[['E1', 'E2']]\n",
    "print(u_0)\n",
    "print(u_1)\n",
    "print(u_0 - u_1)"
   ]
  },
  {
   "cell_type": "code",
   "execution_count": 294,
   "id": "648651ea",
   "metadata": {
    "scrolled": true
   },
   "outputs": [
    {
     "data": {
      "text/plain": [
       "array([[ 307.34444444, -110.17777778],\n",
       "       [-110.17777778,   88.4       ]])"
      ]
     },
     "execution_count": 294,
     "metadata": {},
     "output_type": "execute_result"
    }
   ],
   "source": [
    "np.cov(train_data.loc[train_data.F==0, ['E1','E2']], rowvar=False)"
   ]
  },
  {
   "cell_type": "code",
   "execution_count": 305,
   "id": "5c9d5d52",
   "metadata": {},
   "outputs": [
    {
     "data": {
      "text/plain": [
       "276.61"
      ]
     },
     "execution_count": 305,
     "metadata": {},
     "output_type": "execute_result"
    }
   ],
   "source": [
    "((train_data.loc[train_data.F==0].E1 - u_0.E1)**2).mean()"
   ]
  },
  {
   "cell_type": "code",
   "execution_count": 307,
   "id": "2ff9d031",
   "metadata": {},
   "outputs": [
    {
     "data": {
      "text/plain": [
       "79.56"
      ]
     },
     "execution_count": 307,
     "metadata": {},
     "output_type": "execute_result"
    }
   ],
   "source": [
    "((train_data.loc[train_data.F==0].E2 - u_0.E2)**2).mean()"
   ]
  },
  {
   "cell_type": "code",
   "execution_count": 308,
   "id": "ca1d2f23",
   "metadata": {},
   "outputs": [
    {
     "data": {
      "text/plain": [
       "-99.16000000000001"
      ]
     },
     "execution_count": 308,
     "metadata": {},
     "output_type": "execute_result"
    }
   ],
   "source": [
    "((train_data.loc[train_data.F==0].E1 - u_0.E1)*(train_data.loc[train_data.F==0].E2 - u_0.E2)).mean()"
   ]
  }
 ],
 "metadata": {
  "kernelspec": {
   "display_name": "Python 3 (ipykernel)",
   "language": "python",
   "name": "python3"
  },
  "language_info": {
   "codemirror_mode": {
    "name": "ipython",
    "version": 3
   },
   "file_extension": ".py",
   "mimetype": "text/x-python",
   "name": "python",
   "nbconvert_exporter": "python",
   "pygments_lexer": "ipython3",
   "version": "3.9.7"
  }
 },
 "nbformat": 4,
 "nbformat_minor": 5
}
