{
 "cells": [
  {
   "cell_type": "code",
   "execution_count": 349,
   "metadata": {},
   "outputs": [],
   "source": [
    "import pandas as pd\n",
    "import numpy as np\n",
    "from statsmodels.formula.api import ols\n",
    "from statsmodels.formula.api import logit\n",
    "import statsmodels.api as sm\n",
    "\n",
    "import matplotlib.pyplot as plt\n",
    "from sklearn.linear_model import  LogisticRegression\n",
    "\n",
    "from sklearn.metrics import roc_curve\n",
    "from sklearn.metrics import confusion_matrix\n",
    "from sklearn.metrics import classification_report\n",
    "\n",
    "%matplotlib inline"
   ]
  },
  {
   "cell_type": "code",
   "execution_count": 2,
   "metadata": {},
   "outputs": [],
   "source": [
    "raw = pd.read_excel('연소득과주택소유.xlsx')"
   ]
  },
  {
   "cell_type": "code",
   "execution_count": 3,
   "metadata": {},
   "outputs": [],
   "source": [
    "data = raw.copy()"
   ]
  },
  {
   "cell_type": "code",
   "execution_count": 4,
   "metadata": {},
   "outputs": [
    {
     "data": {
      "text/html": [
       "<div>\n",
       "<style scoped>\n",
       "    .dataframe tbody tr th:only-of-type {\n",
       "        vertical-align: middle;\n",
       "    }\n",
       "\n",
       "    .dataframe tbody tr th {\n",
       "        vertical-align: top;\n",
       "    }\n",
       "\n",
       "    .dataframe thead th {\n",
       "        text-align: right;\n",
       "    }\n",
       "</style>\n",
       "<table border=\"1\" class=\"dataframe\">\n",
       "  <thead>\n",
       "    <tr style=\"text-align: right;\">\n",
       "      <th></th>\n",
       "      <th>Record</th>\n",
       "      <th>Income</th>\n",
       "      <th>House</th>\n",
       "    </tr>\n",
       "  </thead>\n",
       "  <tbody>\n",
       "    <tr>\n",
       "      <th>0</th>\n",
       "      <td>1</td>\n",
       "      <td>12</td>\n",
       "      <td>0</td>\n",
       "    </tr>\n",
       "    <tr>\n",
       "      <th>1</th>\n",
       "      <td>2</td>\n",
       "      <td>18</td>\n",
       "      <td>0</td>\n",
       "    </tr>\n",
       "    <tr>\n",
       "      <th>2</th>\n",
       "      <td>3</td>\n",
       "      <td>21</td>\n",
       "      <td>0</td>\n",
       "    </tr>\n",
       "    <tr>\n",
       "      <th>3</th>\n",
       "      <td>4</td>\n",
       "      <td>22</td>\n",
       "      <td>0</td>\n",
       "    </tr>\n",
       "    <tr>\n",
       "      <th>4</th>\n",
       "      <td>5</td>\n",
       "      <td>22</td>\n",
       "      <td>0</td>\n",
       "    </tr>\n",
       "    <tr>\n",
       "      <th>...</th>\n",
       "      <td>...</td>\n",
       "      <td>...</td>\n",
       "      <td>...</td>\n",
       "    </tr>\n",
       "    <tr>\n",
       "      <th>95</th>\n",
       "      <td>96</td>\n",
       "      <td>93</td>\n",
       "      <td>1</td>\n",
       "    </tr>\n",
       "    <tr>\n",
       "      <th>96</th>\n",
       "      <td>97</td>\n",
       "      <td>93</td>\n",
       "      <td>1</td>\n",
       "    </tr>\n",
       "    <tr>\n",
       "      <th>97</th>\n",
       "      <td>98</td>\n",
       "      <td>94</td>\n",
       "      <td>1</td>\n",
       "    </tr>\n",
       "    <tr>\n",
       "      <th>98</th>\n",
       "      <td>99</td>\n",
       "      <td>95</td>\n",
       "      <td>1</td>\n",
       "    </tr>\n",
       "    <tr>\n",
       "      <th>99</th>\n",
       "      <td>100</td>\n",
       "      <td>95</td>\n",
       "      <td>1</td>\n",
       "    </tr>\n",
       "  </tbody>\n",
       "</table>\n",
       "<p>100 rows × 3 columns</p>\n",
       "</div>"
      ],
      "text/plain": [
       "    Record  Income  House\n",
       "0        1      12      0\n",
       "1        2      18      0\n",
       "2        3      21      0\n",
       "3        4      22      0\n",
       "4        5      22      0\n",
       "..     ...     ...    ...\n",
       "95      96      93      1\n",
       "96      97      93      1\n",
       "97      98      94      1\n",
       "98      99      95      1\n",
       "99     100      95      1\n",
       "\n",
       "[100 rows x 3 columns]"
      ]
     },
     "execution_count": 4,
     "metadata": {},
     "output_type": "execute_result"
    }
   ],
   "source": [
    "data"
   ]
  },
  {
   "cell_type": "code",
   "execution_count": 253,
   "metadata": {},
   "outputs": [
    {
     "data": {
      "image/png": "[encoded data removed]",
      "text/plain": [
       "<Figure size 720x504 with 1 Axes>"
      ]
     },
     "metadata": {
      "needs_background": "light"
     },
     "output_type": "display_data"
    }
   ],
   "source": [
    "model = ols('House ~ Income', data=data).fit()\n",
    "\n",
    "fig, ax = plt.subplots(figsize=(10, 7))\n",
    "ax.plot(np.arange(10, 100), np.arange(10, 100) * model.params[1] + model.params[0], color='r')\n",
    "ax.scatter(data.Income, data.House, marker='o', c='w', s=70, linewidths=1, edgecolor='k', alpha=0.3)\n",
    "plt.xlim(-9, 110)\n",
    "plt.ylim(-0.7, 1.2)\n",
    "plt.xticks(color='w')\n",
    "plt.yticks(color='w')\n",
    "plt.grid(None, axis='x')\n",
    "\n",
    "ax.spines['left'].set_color('k')\n",
    "ax.spines['left'].set_position('zero')\n",
    "\n",
    "ax.spines['bottom'].set_color('k')\n",
    "ax.spines['bottom'].set_position('zero')\n",
    "\n",
    "ax.set_yticks([round(-0.6 + (i*0.2),2) for i in range(0, 9)])\n",
    "ax.set_yticklabels(['']+[round(-0.4 + (i*0.2),2) for i in range(0, 8)])\n",
    "\n",
    "plt.text(2, 1.1, 'House', fontsize=15)\n",
    "plt.text(90, -0.2, 'Income', fontsize=15)\n",
    "plt.text(40, -0.6, 'o House', fontsize=15)\n",
    "plt.text(65, -0.6, '선형', fontsize=15)\n",
    "plt.plot([55, 63], [-0.58, -0.58], color='r')\n",
    "plt.show()"
   ]
  },
  {
   "cell_type": "code",
   "execution_count": 6,
   "metadata": {},
   "outputs": [
    {
     "name": "stdout",
     "output_type": "stream",
     "text": [
      "                            OLS Regression Results                            \n",
      "==============================================================================\n",
      "Dep. Variable:                  House   R-squared:                       0.714\n",
      "Model:                            OLS   Adj. R-squared:                  0.712\n",
      "Method:                 Least Squares   F-statistic:                     245.2\n",
      "Date:                Mon, 31 Jan 2022   Prob (F-statistic):           2.03e-28\n",
      "Time:                        21:12:04   Log-Likelihood:                -9.7372\n",
      "No. Observations:                 100   AIC:                             23.47\n",
      "Df Residuals:                      98   BIC:                             28.68\n",
      "Df Model:                           1                                         \n",
      "Covariance Type:            nonrobust                                         \n",
      "==============================================================================\n",
      "                 coef    std err          t      P>|t|      [0.025      0.975]\n",
      "------------------------------------------------------------------------------\n",
      "Intercept     -0.5625      0.075     -7.520      0.000      -0.711      -0.414\n",
      "Income         0.0175      0.001     15.658      0.000       0.015       0.020\n",
      "==============================================================================\n",
      "Omnibus:                        7.077   Durbin-Watson:                   1.840\n",
      "Prob(Omnibus):                  0.029   Jarque-Bera (JB):                6.567\n",
      "Skew:                          -0.550   Prob(JB):                       0.0375\n",
      "Kurtosis:                       3.604   Cond. No.                         185.\n",
      "==============================================================================\n",
      "\n",
      "Notes:\n",
      "[1] Standard Errors assume that the covariance matrix of the errors is correctly specified.\n"
     ]
    }
   ],
   "source": [
    "print(model.summary())"
   ]
  },
  {
   "cell_type": "code",
   "execution_count": null,
   "metadata": {},
   "outputs": [],
   "source": []
  },
  {
   "cell_type": "code",
   "execution_count": 242,
   "metadata": {},
   "outputs": [
    {
     "data": {
      "image/png": "[encoded data removed]",
      "text/plain": [
       "<Figure size 720x504 with 1 Axes>"
      ]
     },
     "metadata": {
      "needs_background": "light"
     },
     "output_type": "display_data"
    }
   ],
   "source": [
    "logit_model_1 = LogisticRegression()\n",
    "logit_model_1.fit(np.reshape(data.Income.values, (-1, 1)), data.House)\n",
    "\n",
    "fig, ax = plt.subplots(figsize=(10, 7))\n",
    "ax.plot(np.arange(10, 100), np.arange(10, 100) * model.params[1] + model.params[0], color='r', linestyle='--')\n",
    "ax.scatter(data.Income, data.House, marker='o', c='w', s=70, linewidths=1, edgecolor='k', alpha=0.3)\n",
    "xx = np.linspace(10, 100, 1000)\n",
    "ax.plot(xx, 1/(1+np.exp(-(xx*logit_model_1.coef_ + logit_model_1.intercept_)))[0], color='b')\n",
    "\n",
    "plt.xlim(-9, 110)\n",
    "plt.ylim(-0.7, 1.2)\n",
    "plt.xticks(color='w')\n",
    "plt.yticks(color='w')\n",
    "plt.grid(None, axis='x')\n",
    "\n",
    "ax.spines['left'].set_color('k')\n",
    "ax.spines['left'].set_position('zero')\n",
    "\n",
    "ax.spines['bottom'].set_color('k')\n",
    "ax.spines['bottom'].set_position('zero')\n",
    "\n",
    "ax.set_yticks([round(-0.6 + (i*0.2),2) for i in range(0, 9)])\n",
    "ax.set_yticklabels(['']+[round(-0.4 + (i*0.2),2) for i in range(0, 8)])\n",
    "\n",
    "plt.text(2, 1.1, 'House', fontsize=15)\n",
    "plt.text(90, -0.2, 'Income', fontsize=15)\n",
    "\n",
    "plt.text(20, -0.6, 'o House', fontsize=15)\n",
    "\n",
    "plt.plot([40, 48], [-0.58, -0.58], color='r', linestyle='--')\n",
    "plt.text(50, -0.6, '선형', fontsize=15)\n",
    "\n",
    "plt.plot([60, 68], [-0.58, -0.58], color='b')\n",
    "plt.text(70, -0.6, '로지스틱', fontsize=15)\n",
    "plt.show()"
   ]
  },
  {
   "cell_type": "code",
   "execution_count": null,
   "metadata": {},
   "outputs": [],
   "source": []
  },
  {
   "cell_type": "code",
   "execution_count": 243,
   "metadata": {},
   "outputs": [
    {
     "data": {
      "text/plain": [
       "array([[0.19795723]])"
      ]
     },
     "execution_count": 243,
     "metadata": {},
     "output_type": "execute_result"
    }
   ],
   "source": [
    "logit_model_1.coef_"
   ]
  },
  {
   "cell_type": "code",
   "execution_count": 244,
   "metadata": {},
   "outputs": [
    {
     "data": {
      "text/plain": [
       "array([-12.51673662])"
      ]
     },
     "execution_count": 244,
     "metadata": {},
     "output_type": "execute_result"
    }
   ],
   "source": [
    "logit_model_1.intercept_"
   ]
  },
  {
   "cell_type": "code",
   "execution_count": 219,
   "metadata": {},
   "outputs": [
    {
     "name": "stdout",
     "output_type": "stream",
     "text": [
      "Optimization terminated successfully.\n",
      "         Current function value: 0.179405\n",
      "         Iterations 9\n",
      "                           Logit Regression Results                           \n",
      "==============================================================================\n",
      "Dep. Variable:                  House   No. Observations:                  100\n",
      "Model:                          Logit   Df Residuals:                       98\n",
      "Method:                           MLE   Df Model:                            1\n",
      "Date:                Mon, 31 Jan 2022   Pseudo R-squ.:                  0.7405\n",
      "Time:                        23:12:36   Log-Likelihood:                -17.941\n",
      "converged:                       True   LL-Null:                       -69.135\n",
      "Covariance Type:            nonrobust   LLR p-value:                 4.564e-24\n",
      "==============================================================================\n",
      "                 coef    std err          z      P>|z|      [0.025      0.975]\n",
      "------------------------------------------------------------------------------\n",
      "Intercept    -12.5421      2.920     -4.295      0.000     -18.266      -6.819\n",
      "Income         0.1983      0.045      4.449      0.000       0.111       0.286\n",
      "==============================================================================\n"
     ]
    }
   ],
   "source": [
    "logit_model_2 = logit('House ~ Income', data=data).fit()\n",
    "print(logit_model_2.summary())"
   ]
  },
  {
   "cell_type": "code",
   "execution_count": 267,
   "metadata": {},
   "outputs": [
    {
     "data": {
      "image/png": "[encoded data removed]",
      "text/plain": [
       "<Figure size 432x288 with 1 Axes>"
      ]
     },
     "metadata": {
      "needs_background": "light"
     },
     "output_type": "display_data"
    }
   ],
   "source": [
    "fpr_1, tpr_1, thresholds_1 = roc_curve(data.House, [item[1] for item in logit_model_1.predict_proba(np.reshape(data.Income.values, (-1, 1)))])\n",
    "plt.plot(fpr_1, tpr_1)\n",
    "plt.show()"
   ]
  },
  {
   "cell_type": "code",
   "execution_count": 268,
   "metadata": {},
   "outputs": [
    {
     "data": {
      "image/png": "[encoded data removed]",
      "text/plain": [
       "<Figure size 432x288 with 1 Axes>"
      ]
     },
     "metadata": {
      "needs_background": "light"
     },
     "output_type": "display_data"
    }
   ],
   "source": [
    "fpr_2, tpr_2, thresholds_2 = roc_curve(data.House, logit_model_2.predict(data.Income))\n",
    "plt.plot(fpr_2, tpr_2)\n",
    "plt.show()"
   ]
  },
  {
   "cell_type": "code",
   "execution_count": 278,
   "metadata": {},
   "outputs": [
    {
     "data": {
      "text/plain": [
       "20"
      ]
     },
     "execution_count": 278,
     "metadata": {},
     "output_type": "execute_result"
    }
   ],
   "source": [
    "dist = []\n",
    "for x,y in zip(fpr_1, tpr_1):\n",
    "    dist.append(((0-x)**2) + ((1-y)**2))\n",
    "dist.index(min(dist))"
   ]
  },
  {
   "cell_type": "code",
   "execution_count": 280,
   "metadata": {},
   "outputs": [
    {
     "data": {
      "text/plain": [
       "0.6783933222593441"
      ]
     },
     "execution_count": 280,
     "metadata": {},
     "output_type": "execute_result"
    }
   ],
   "source": [
    "thresholds_1[20]"
   ]
  },
  {
   "cell_type": "code",
   "execution_count": 279,
   "metadata": {},
   "outputs": [
    {
     "data": {
      "text/plain": [
       "20"
      ]
     },
     "execution_count": 279,
     "metadata": {},
     "output_type": "execute_result"
    }
   ],
   "source": [
    "dist = []\n",
    "for x,y in zip(fpr_2, tpr_2):\n",
    "    dist.append(((0-x)**2) + ((1-y)**2))\n",
    "dist.index(min(dist))"
   ]
  },
  {
   "cell_type": "code",
   "execution_count": 277,
   "metadata": {},
   "outputs": [
    {
     "data": {
      "text/plain": [
       "0.6785842243067552"
      ]
     },
     "execution_count": 277,
     "metadata": {},
     "output_type": "execute_result"
    }
   ],
   "source": [
    "thresholds_2[20]"
   ]
  },
  {
   "cell_type": "code",
   "execution_count": 307,
   "metadata": {},
   "outputs": [
    {
     "name": "stdout",
     "output_type": "stream",
     "text": [
      "[[43  4]\n",
      " [ 3 50]]\n",
      "              precision    recall  f1-score   support\n",
      "\n",
      "           0       0.93      0.91      0.92        47\n",
      "           1       0.93      0.94      0.93        53\n",
      "\n",
      "    accuracy                           0.93       100\n",
      "   macro avg       0.93      0.93      0.93       100\n",
      "weighted avg       0.93      0.93      0.93       100\n",
      "\n"
     ]
    }
   ],
   "source": [
    "y_pred_1 = logit_model_1.predict(np.reshape(data.Income.values, (-1, 1)))\n",
    "print(confusion_matrix(data.House, y_pred_1))\n",
    "print(classification_report(data.House, y_pred_1))"
   ]
  },
  {
   "cell_type": "code",
   "execution_count": 310,
   "metadata": {},
   "outputs": [
    {
     "name": "stdout",
     "output_type": "stream",
     "text": [
      "적중율: 93.0\n",
      "민감도: 92.59\n",
      "특이도: 93.48\n"
     ]
    }
   ],
   "source": [
    "confusion = confusion_matrix(data.House, y_pred_1)\n",
    "TN = confusion[0][0]\n",
    "FN = confusion[0][1]\n",
    "FP = confusion[1][0]\n",
    "TP = confusion[1][1]\n",
    "acc = (TN + TP) / (TN+FN+FP+TP)\n",
    "sens = TP / (TP+FN)\n",
    "spec = TN / (TN+FP)\n",
    "print(f'적중율: {round(acc*100, 2)}\\n민감도: {round(sens*100, 2)}\\n특이도: {round(spec*100, 2)}')"
   ]
  },
  {
   "cell_type": "code",
   "execution_count": 320,
   "metadata": {},
   "outputs": [
    {
     "name": "stdout",
     "output_type": "stream",
     "text": [
      "[[44  3]\n",
      " [ 4 49]]\n",
      "              precision    recall  f1-score   support\n",
      "\n",
      "           0       0.92      0.94      0.93        47\n",
      "           1       0.94      0.92      0.93        53\n",
      "\n",
      "    accuracy                           0.93       100\n",
      "   macro avg       0.93      0.93      0.93       100\n",
      "weighted avg       0.93      0.93      0.93       100\n",
      "\n"
     ]
    }
   ],
   "source": [
    "y_pred_2 = [1 if pos_prob >= 0.6783933222593441 else 0 for neg_prob, pos_prob in logit_model_1.predict_proba(np.reshape(data.Income.values, (-1, 1)))]\n",
    "print(confusion_matrix(data.House, y_pred_2))\n",
    "print(classification_report(data.House, y_pred_2))"
   ]
  },
  {
   "cell_type": "code",
   "execution_count": 321,
   "metadata": {},
   "outputs": [
    {
     "name": "stdout",
     "output_type": "stream",
     "text": [
      "적중율: 93.0\n",
      "민감도: 94.23\n",
      "특이도: 91.67\n"
     ]
    }
   ],
   "source": [
    "confusion = confusion_matrix(data.House, y_pred_2)\n",
    "TN = confusion[0][0]\n",
    "FN = confusion[0][1]\n",
    "FP = confusion[1][0]\n",
    "TP = confusion[1][1]\n",
    "acc = (TN + TP) / (TN+FN+FP+TP)\n",
    "sens = TP / (TP+FN)\n",
    "spec = TN / (TN+FP)\n",
    "print(f'적중율: {round(acc*100, 2)}\\n민감도: {round(sens*100, 2)}\\n특이도: {round(spec*100, 2)}')"
   ]
  },
  {
   "cell_type": "code",
   "execution_count": 313,
   "metadata": {},
   "outputs": [
    {
     "name": "stdout",
     "output_type": "stream",
     "text": [
      "-1.6400000000000006\n",
      "1.8100000000000023\n"
     ]
    }
   ],
   "source": [
    "print(92.59 - 94.23)\n",
    "print(93.48 - 91.67)"
   ]
  },
  {
   "cell_type": "code",
   "execution_count": null,
   "metadata": {},
   "outputs": [],
   "source": []
  },
  {
   "cell_type": "code",
   "execution_count": 335,
   "metadata": {},
   "outputs": [],
   "source": [
    "from sklearn.model_selection import train_test_split"
   ]
  },
  {
   "cell_type": "code",
   "execution_count": 326,
   "metadata": {},
   "outputs": [],
   "source": [
    "kid_raw = pd.read_csv('KidCreative.csv')"
   ]
  },
  {
   "cell_type": "code",
   "execution_count": 331,
   "metadata": {},
   "outputs": [],
   "source": [
    "kid = kid_raw.copy()\n",
    "kid.columns = ['_'.join(col.replace('.','').lower().split()) for col in kid.columns]"
   ]
  },
  {
   "cell_type": "code",
   "execution_count": 332,
   "metadata": {},
   "outputs": [
    {
     "data": {
      "text/html": [
       "<div>\n",
       "<style scoped>\n",
       "    .dataframe tbody tr th:only-of-type {\n",
       "        vertical-align: middle;\n",
       "    }\n",
       "\n",
       "    .dataframe tbody tr th {\n",
       "        vertical-align: top;\n",
       "    }\n",
       "\n",
       "    .dataframe thead th {\n",
       "        text-align: right;\n",
       "    }\n",
       "</style>\n",
       "<table border=\"1\" class=\"dataframe\">\n",
       "  <thead>\n",
       "    <tr style=\"text-align: right;\">\n",
       "      <th></th>\n",
       "      <th>obs_no</th>\n",
       "      <th>buy</th>\n",
       "      <th>income</th>\n",
       "      <th>is_female</th>\n",
       "      <th>is_married</th>\n",
       "      <th>has_college</th>\n",
       "      <th>is_professional</th>\n",
       "      <th>is_retired</th>\n",
       "      <th>unemployed</th>\n",
       "      <th>residence_length</th>\n",
       "      <th>dual_income</th>\n",
       "      <th>minors</th>\n",
       "      <th>own</th>\n",
       "      <th>house</th>\n",
       "      <th>white</th>\n",
       "      <th>english</th>\n",
       "      <th>prev_child_mag</th>\n",
       "      <th>prev_parent_mag</th>\n",
       "    </tr>\n",
       "  </thead>\n",
       "  <tbody>\n",
       "    <tr>\n",
       "      <th>0</th>\n",
       "      <td>1</td>\n",
       "      <td>0</td>\n",
       "      <td>24000</td>\n",
       "      <td>1</td>\n",
       "      <td>0</td>\n",
       "      <td>1</td>\n",
       "      <td>1</td>\n",
       "      <td>0</td>\n",
       "      <td>0</td>\n",
       "      <td>26</td>\n",
       "      <td>0</td>\n",
       "      <td>0</td>\n",
       "      <td>0</td>\n",
       "      <td>1</td>\n",
       "      <td>0</td>\n",
       "      <td>0</td>\n",
       "      <td>0</td>\n",
       "      <td>0</td>\n",
       "    </tr>\n",
       "    <tr>\n",
       "      <th>1</th>\n",
       "      <td>2</td>\n",
       "      <td>1</td>\n",
       "      <td>75000</td>\n",
       "      <td>1</td>\n",
       "      <td>1</td>\n",
       "      <td>1</td>\n",
       "      <td>1</td>\n",
       "      <td>0</td>\n",
       "      <td>0</td>\n",
       "      <td>15</td>\n",
       "      <td>1</td>\n",
       "      <td>0</td>\n",
       "      <td>1</td>\n",
       "      <td>1</td>\n",
       "      <td>1</td>\n",
       "      <td>1</td>\n",
       "      <td>1</td>\n",
       "      <td>0</td>\n",
       "    </tr>\n",
       "    <tr>\n",
       "      <th>2</th>\n",
       "      <td>3</td>\n",
       "      <td>0</td>\n",
       "      <td>46000</td>\n",
       "      <td>1</td>\n",
       "      <td>1</td>\n",
       "      <td>0</td>\n",
       "      <td>0</td>\n",
       "      <td>0</td>\n",
       "      <td>0</td>\n",
       "      <td>36</td>\n",
       "      <td>1</td>\n",
       "      <td>1</td>\n",
       "      <td>1</td>\n",
       "      <td>1</td>\n",
       "      <td>1</td>\n",
       "      <td>1</td>\n",
       "      <td>0</td>\n",
       "      <td>0</td>\n",
       "    </tr>\n",
       "    <tr>\n",
       "      <th>3</th>\n",
       "      <td>4</td>\n",
       "      <td>1</td>\n",
       "      <td>70000</td>\n",
       "      <td>0</td>\n",
       "      <td>1</td>\n",
       "      <td>0</td>\n",
       "      <td>1</td>\n",
       "      <td>0</td>\n",
       "      <td>0</td>\n",
       "      <td>55</td>\n",
       "      <td>0</td>\n",
       "      <td>0</td>\n",
       "      <td>1</td>\n",
       "      <td>1</td>\n",
       "      <td>1</td>\n",
       "      <td>1</td>\n",
       "      <td>1</td>\n",
       "      <td>0</td>\n",
       "    </tr>\n",
       "    <tr>\n",
       "      <th>4</th>\n",
       "      <td>5</td>\n",
       "      <td>0</td>\n",
       "      <td>43000</td>\n",
       "      <td>1</td>\n",
       "      <td>0</td>\n",
       "      <td>0</td>\n",
       "      <td>0</td>\n",
       "      <td>0</td>\n",
       "      <td>0</td>\n",
       "      <td>27</td>\n",
       "      <td>0</td>\n",
       "      <td>0</td>\n",
       "      <td>0</td>\n",
       "      <td>0</td>\n",
       "      <td>1</td>\n",
       "      <td>1</td>\n",
       "      <td>0</td>\n",
       "      <td>1</td>\n",
       "    </tr>\n",
       "    <tr>\n",
       "      <th>...</th>\n",
       "      <td>...</td>\n",
       "      <td>...</td>\n",
       "      <td>...</td>\n",
       "      <td>...</td>\n",
       "      <td>...</td>\n",
       "      <td>...</td>\n",
       "      <td>...</td>\n",
       "      <td>...</td>\n",
       "      <td>...</td>\n",
       "      <td>...</td>\n",
       "      <td>...</td>\n",
       "      <td>...</td>\n",
       "      <td>...</td>\n",
       "      <td>...</td>\n",
       "      <td>...</td>\n",
       "      <td>...</td>\n",
       "      <td>...</td>\n",
       "      <td>...</td>\n",
       "    </tr>\n",
       "    <tr>\n",
       "      <th>668</th>\n",
       "      <td>669</td>\n",
       "      <td>0</td>\n",
       "      <td>27000</td>\n",
       "      <td>1</td>\n",
       "      <td>0</td>\n",
       "      <td>0</td>\n",
       "      <td>0</td>\n",
       "      <td>0</td>\n",
       "      <td>0</td>\n",
       "      <td>6</td>\n",
       "      <td>0</td>\n",
       "      <td>1</td>\n",
       "      <td>1</td>\n",
       "      <td>1</td>\n",
       "      <td>1</td>\n",
       "      <td>1</td>\n",
       "      <td>0</td>\n",
       "      <td>0</td>\n",
       "    </tr>\n",
       "    <tr>\n",
       "      <th>669</th>\n",
       "      <td>670</td>\n",
       "      <td>0</td>\n",
       "      <td>3000</td>\n",
       "      <td>1</td>\n",
       "      <td>0</td>\n",
       "      <td>0</td>\n",
       "      <td>0</td>\n",
       "      <td>0</td>\n",
       "      <td>0</td>\n",
       "      <td>11</td>\n",
       "      <td>0</td>\n",
       "      <td>1</td>\n",
       "      <td>0</td>\n",
       "      <td>1</td>\n",
       "      <td>0</td>\n",
       "      <td>1</td>\n",
       "      <td>0</td>\n",
       "      <td>0</td>\n",
       "    </tr>\n",
       "    <tr>\n",
       "      <th>670</th>\n",
       "      <td>671</td>\n",
       "      <td>1</td>\n",
       "      <td>75000</td>\n",
       "      <td>1</td>\n",
       "      <td>1</td>\n",
       "      <td>0</td>\n",
       "      <td>1</td>\n",
       "      <td>0</td>\n",
       "      <td>0</td>\n",
       "      <td>52</td>\n",
       "      <td>0</td>\n",
       "      <td>0</td>\n",
       "      <td>1</td>\n",
       "      <td>1</td>\n",
       "      <td>1</td>\n",
       "      <td>1</td>\n",
       "      <td>0</td>\n",
       "      <td>0</td>\n",
       "    </tr>\n",
       "    <tr>\n",
       "      <th>671</th>\n",
       "      <td>672</td>\n",
       "      <td>1</td>\n",
       "      <td>51000</td>\n",
       "      <td>1</td>\n",
       "      <td>1</td>\n",
       "      <td>0</td>\n",
       "      <td>1</td>\n",
       "      <td>0</td>\n",
       "      <td>0</td>\n",
       "      <td>10</td>\n",
       "      <td>1</td>\n",
       "      <td>1</td>\n",
       "      <td>1</td>\n",
       "      <td>1</td>\n",
       "      <td>1</td>\n",
       "      <td>1</td>\n",
       "      <td>0</td>\n",
       "      <td>0</td>\n",
       "    </tr>\n",
       "    <tr>\n",
       "      <th>672</th>\n",
       "      <td>673</td>\n",
       "      <td>0</td>\n",
       "      <td>11000</td>\n",
       "      <td>0</td>\n",
       "      <td>1</td>\n",
       "      <td>0</td>\n",
       "      <td>0</td>\n",
       "      <td>0</td>\n",
       "      <td>1</td>\n",
       "      <td>11</td>\n",
       "      <td>0</td>\n",
       "      <td>1</td>\n",
       "      <td>0</td>\n",
       "      <td>0</td>\n",
       "      <td>0</td>\n",
       "      <td>1</td>\n",
       "      <td>0</td>\n",
       "      <td>0</td>\n",
       "    </tr>\n",
       "  </tbody>\n",
       "</table>\n",
       "<p>673 rows × 18 columns</p>\n",
       "</div>"
      ],
      "text/plain": [
       "     obs_no  buy  income  is_female  is_married  has_college  is_professional  \\\n",
       "0         1    0   24000          1           0            1                1   \n",
       "1         2    1   75000          1           1            1                1   \n",
       "2         3    0   46000          1           1            0                0   \n",
       "3         4    1   70000          0           1            0                1   \n",
       "4         5    0   43000          1           0            0                0   \n",
       "..      ...  ...     ...        ...         ...          ...              ...   \n",
       "668     669    0   27000          1           0            0                0   \n",
       "669     670    0    3000          1           0            0                0   \n",
       "670     671    1   75000          1           1            0                1   \n",
       "671     672    1   51000          1           1            0                1   \n",
       "672     673    0   11000          0           1            0                0   \n",
       "\n",
       "     is_retired  unemployed  residence_length  dual_income  minors  own  \\\n",
       "0             0           0                26            0       0    0   \n",
       "1             0           0                15            1       0    1   \n",
       "2             0           0                36            1       1    1   \n",
       "3             0           0                55            0       0    1   \n",
       "4             0           0                27            0       0    0   \n",
       "..          ...         ...               ...          ...     ...  ...   \n",
       "668           0           0                 6            0       1    1   \n",
       "669           0           0                11            0       1    0   \n",
       "670           0           0                52            0       0    1   \n",
       "671           0           0                10            1       1    1   \n",
       "672           0           1                11            0       1    0   \n",
       "\n",
       "     house  white  english  prev_child_mag  prev_parent_mag  \n",
       "0        1      0        0               0                0  \n",
       "1        1      1        1               1                0  \n",
       "2        1      1        1               0                0  \n",
       "3        1      1        1               1                0  \n",
       "4        0      1        1               0                1  \n",
       "..     ...    ...      ...             ...              ...  \n",
       "668      1      1        1               0                0  \n",
       "669      1      0        1               0                0  \n",
       "670      1      1        1               0                0  \n",
       "671      1      1        1               0                0  \n",
       "672      0      0        1               0                0  \n",
       "\n",
       "[673 rows x 18 columns]"
      ]
     },
     "execution_count": 332,
     "metadata": {},
     "output_type": "execute_result"
    }
   ],
   "source": [
    "kid"
   ]
  },
  {
   "cell_type": "code",
   "execution_count": 334,
   "metadata": {},
   "outputs": [
    {
     "name": "stdout",
     "output_type": "stream",
     "text": [
      "<class 'pandas.core.frame.DataFrame'>\n",
      "RangeIndex: 673 entries, 0 to 672\n",
      "Data columns (total 18 columns):\n",
      " #   Column            Non-Null Count  Dtype\n",
      "---  ------            --------------  -----\n",
      " 0   obs_no            673 non-null    int64\n",
      " 1   buy               673 non-null    int64\n",
      " 2   income            673 non-null    int64\n",
      " 3   is_female         673 non-null    int64\n",
      " 4   is_married        673 non-null    int64\n",
      " 5   has_college       673 non-null    int64\n",
      " 6   is_professional   673 non-null    int64\n",
      " 7   is_retired        673 non-null    int64\n",
      " 8   unemployed        673 non-null    int64\n",
      " 9   residence_length  673 non-null    int64\n",
      " 10  dual_income       673 non-null    int64\n",
      " 11  minors            673 non-null    int64\n",
      " 12  own               673 non-null    int64\n",
      " 13  house             673 non-null    int64\n",
      " 14  white             673 non-null    int64\n",
      " 15  english           673 non-null    int64\n",
      " 16  prev_child_mag    673 non-null    int64\n",
      " 17  prev_parent_mag   673 non-null    int64\n",
      "dtypes: int64(18)\n",
      "memory usage: 94.8 KB\n"
     ]
    }
   ],
   "source": [
    "kid.info()"
   ]
  },
  {
   "cell_type": "code",
   "execution_count": 333,
   "metadata": {},
   "outputs": [
    {
     "data": {
      "text/html": [
       "<div>\n",
       "<style scoped>\n",
       "    .dataframe tbody tr th:only-of-type {\n",
       "        vertical-align: middle;\n",
       "    }\n",
       "\n",
       "    .dataframe tbody tr th {\n",
       "        vertical-align: top;\n",
       "    }\n",
       "\n",
       "    .dataframe thead th {\n",
       "        text-align: right;\n",
       "    }\n",
       "</style>\n",
       "<table border=\"1\" class=\"dataframe\">\n",
       "  <thead>\n",
       "    <tr style=\"text-align: right;\">\n",
       "      <th></th>\n",
       "      <th>obs_no</th>\n",
       "      <th>buy</th>\n",
       "      <th>income</th>\n",
       "      <th>is_female</th>\n",
       "      <th>is_married</th>\n",
       "      <th>has_college</th>\n",
       "      <th>is_professional</th>\n",
       "      <th>is_retired</th>\n",
       "      <th>unemployed</th>\n",
       "      <th>residence_length</th>\n",
       "      <th>dual_income</th>\n",
       "      <th>minors</th>\n",
       "      <th>own</th>\n",
       "      <th>house</th>\n",
       "      <th>white</th>\n",
       "      <th>english</th>\n",
       "      <th>prev_child_mag</th>\n",
       "      <th>prev_parent_mag</th>\n",
       "    </tr>\n",
       "  </thead>\n",
       "  <tbody>\n",
       "    <tr>\n",
       "      <th>count</th>\n",
       "      <td>673.00000</td>\n",
       "      <td>673.000000</td>\n",
       "      <td>673.000000</td>\n",
       "      <td>673.000000</td>\n",
       "      <td>673.000000</td>\n",
       "      <td>673.000000</td>\n",
       "      <td>673.000000</td>\n",
       "      <td>673.000000</td>\n",
       "      <td>673.000000</td>\n",
       "      <td>673.000000</td>\n",
       "      <td>673.000000</td>\n",
       "      <td>673.000000</td>\n",
       "      <td>673.000000</td>\n",
       "      <td>673.000000</td>\n",
       "      <td>673.000000</td>\n",
       "      <td>673.000000</td>\n",
       "      <td>673.000000</td>\n",
       "      <td>673.000000</td>\n",
       "    </tr>\n",
       "    <tr>\n",
       "      <th>mean</th>\n",
       "      <td>337.00000</td>\n",
       "      <td>0.185736</td>\n",
       "      <td>35078.751857</td>\n",
       "      <td>0.551263</td>\n",
       "      <td>0.349183</td>\n",
       "      <td>0.289747</td>\n",
       "      <td>0.341753</td>\n",
       "      <td>0.057949</td>\n",
       "      <td>0.031204</td>\n",
       "      <td>17.618128</td>\n",
       "      <td>0.231798</td>\n",
       "      <td>0.364042</td>\n",
       "      <td>0.362556</td>\n",
       "      <td>0.667162</td>\n",
       "      <td>0.692422</td>\n",
       "      <td>0.909361</td>\n",
       "      <td>0.071322</td>\n",
       "      <td>0.084695</td>\n",
       "    </tr>\n",
       "    <tr>\n",
       "      <th>std</th>\n",
       "      <td>194.42265</td>\n",
       "      <td>0.389182</td>\n",
       "      <td>23812.787498</td>\n",
       "      <td>0.497735</td>\n",
       "      <td>0.477066</td>\n",
       "      <td>0.453982</td>\n",
       "      <td>0.474650</td>\n",
       "      <td>0.233822</td>\n",
       "      <td>0.173997</td>\n",
       "      <td>13.555818</td>\n",
       "      <td>0.422294</td>\n",
       "      <td>0.481518</td>\n",
       "      <td>0.481096</td>\n",
       "      <td>0.471580</td>\n",
       "      <td>0.461834</td>\n",
       "      <td>0.287308</td>\n",
       "      <td>0.257554</td>\n",
       "      <td>0.278635</td>\n",
       "    </tr>\n",
       "    <tr>\n",
       "      <th>min</th>\n",
       "      <td>1.00000</td>\n",
       "      <td>0.000000</td>\n",
       "      <td>0.000000</td>\n",
       "      <td>0.000000</td>\n",
       "      <td>0.000000</td>\n",
       "      <td>0.000000</td>\n",
       "      <td>0.000000</td>\n",
       "      <td>0.000000</td>\n",
       "      <td>0.000000</td>\n",
       "      <td>0.000000</td>\n",
       "      <td>0.000000</td>\n",
       "      <td>0.000000</td>\n",
       "      <td>0.000000</td>\n",
       "      <td>0.000000</td>\n",
       "      <td>0.000000</td>\n",
       "      <td>0.000000</td>\n",
       "      <td>0.000000</td>\n",
       "      <td>0.000000</td>\n",
       "    </tr>\n",
       "    <tr>\n",
       "      <th>25%</th>\n",
       "      <td>169.00000</td>\n",
       "      <td>0.000000</td>\n",
       "      <td>14000.000000</td>\n",
       "      <td>0.000000</td>\n",
       "      <td>0.000000</td>\n",
       "      <td>0.000000</td>\n",
       "      <td>0.000000</td>\n",
       "      <td>0.000000</td>\n",
       "      <td>0.000000</td>\n",
       "      <td>7.000000</td>\n",
       "      <td>0.000000</td>\n",
       "      <td>0.000000</td>\n",
       "      <td>0.000000</td>\n",
       "      <td>0.000000</td>\n",
       "      <td>0.000000</td>\n",
       "      <td>1.000000</td>\n",
       "      <td>0.000000</td>\n",
       "      <td>0.000000</td>\n",
       "    </tr>\n",
       "    <tr>\n",
       "      <th>50%</th>\n",
       "      <td>337.00000</td>\n",
       "      <td>0.000000</td>\n",
       "      <td>32000.000000</td>\n",
       "      <td>1.000000</td>\n",
       "      <td>0.000000</td>\n",
       "      <td>0.000000</td>\n",
       "      <td>0.000000</td>\n",
       "      <td>0.000000</td>\n",
       "      <td>0.000000</td>\n",
       "      <td>16.000000</td>\n",
       "      <td>0.000000</td>\n",
       "      <td>0.000000</td>\n",
       "      <td>0.000000</td>\n",
       "      <td>1.000000</td>\n",
       "      <td>1.000000</td>\n",
       "      <td>1.000000</td>\n",
       "      <td>0.000000</td>\n",
       "      <td>0.000000</td>\n",
       "    </tr>\n",
       "    <tr>\n",
       "      <th>75%</th>\n",
       "      <td>505.00000</td>\n",
       "      <td>0.000000</td>\n",
       "      <td>52000.000000</td>\n",
       "      <td>1.000000</td>\n",
       "      <td>1.000000</td>\n",
       "      <td>1.000000</td>\n",
       "      <td>1.000000</td>\n",
       "      <td>0.000000</td>\n",
       "      <td>0.000000</td>\n",
       "      <td>24.000000</td>\n",
       "      <td>0.000000</td>\n",
       "      <td>1.000000</td>\n",
       "      <td>1.000000</td>\n",
       "      <td>1.000000</td>\n",
       "      <td>1.000000</td>\n",
       "      <td>1.000000</td>\n",
       "      <td>0.000000</td>\n",
       "      <td>0.000000</td>\n",
       "    </tr>\n",
       "    <tr>\n",
       "      <th>max</th>\n",
       "      <td>673.00000</td>\n",
       "      <td>1.000000</td>\n",
       "      <td>75000.000000</td>\n",
       "      <td>1.000000</td>\n",
       "      <td>1.000000</td>\n",
       "      <td>1.000000</td>\n",
       "      <td>1.000000</td>\n",
       "      <td>1.000000</td>\n",
       "      <td>1.000000</td>\n",
       "      <td>72.000000</td>\n",
       "      <td>1.000000</td>\n",
       "      <td>1.000000</td>\n",
       "      <td>1.000000</td>\n",
       "      <td>1.000000</td>\n",
       "      <td>1.000000</td>\n",
       "      <td>1.000000</td>\n",
       "      <td>1.000000</td>\n",
       "      <td>1.000000</td>\n",
       "    </tr>\n",
       "  </tbody>\n",
       "</table>\n",
       "</div>"
      ],
      "text/plain": [
       "          obs_no         buy        income   is_female  is_married  \\\n",
       "count  673.00000  673.000000    673.000000  673.000000  673.000000   \n",
       "mean   337.00000    0.185736  35078.751857    0.551263    0.349183   \n",
       "std    194.42265    0.389182  23812.787498    0.497735    0.477066   \n",
       "min      1.00000    0.000000      0.000000    0.000000    0.000000   \n",
       "25%    169.00000    0.000000  14000.000000    0.000000    0.000000   \n",
       "50%    337.00000    0.000000  32000.000000    1.000000    0.000000   \n",
       "75%    505.00000    0.000000  52000.000000    1.000000    1.000000   \n",
       "max    673.00000    1.000000  75000.000000    1.000000    1.000000   \n",
       "\n",
       "       has_college  is_professional  is_retired  unemployed  residence_length  \\\n",
       "count   673.000000       673.000000  673.000000  673.000000        673.000000   \n",
       "mean      0.289747         0.341753    0.057949    0.031204         17.618128   \n",
       "std       0.453982         0.474650    0.233822    0.173997         13.555818   \n",
       "min       0.000000         0.000000    0.000000    0.000000          0.000000   \n",
       "25%       0.000000         0.000000    0.000000    0.000000          7.000000   \n",
       "50%       0.000000         0.000000    0.000000    0.000000         16.000000   \n",
       "75%       1.000000         1.000000    0.000000    0.000000         24.000000   \n",
       "max       1.000000         1.000000    1.000000    1.000000         72.000000   \n",
       "\n",
       "       dual_income      minors         own       house       white  \\\n",
       "count   673.000000  673.000000  673.000000  673.000000  673.000000   \n",
       "mean      0.231798    0.364042    0.362556    0.667162    0.692422   \n",
       "std       0.422294    0.481518    0.481096    0.471580    0.461834   \n",
       "min       0.000000    0.000000    0.000000    0.000000    0.000000   \n",
       "25%       0.000000    0.000000    0.000000    0.000000    0.000000   \n",
       "50%       0.000000    0.000000    0.000000    1.000000    1.000000   \n",
       "75%       0.000000    1.000000    1.000000    1.000000    1.000000   \n",
       "max       1.000000    1.000000    1.000000    1.000000    1.000000   \n",
       "\n",
       "          english  prev_child_mag  prev_parent_mag  \n",
       "count  673.000000      673.000000       673.000000  \n",
       "mean     0.909361        0.071322         0.084695  \n",
       "std      0.287308        0.257554         0.278635  \n",
       "min      0.000000        0.000000         0.000000  \n",
       "25%      1.000000        0.000000         0.000000  \n",
       "50%      1.000000        0.000000         0.000000  \n",
       "75%      1.000000        0.000000         0.000000  \n",
       "max      1.000000        1.000000         1.000000  "
      ]
     },
     "execution_count": 333,
     "metadata": {},
     "output_type": "execute_result"
    }
   ],
   "source": [
    "kid.describe()"
   ]
  },
  {
   "cell_type": "code",
   "execution_count": 421,
   "metadata": {},
   "outputs": [],
   "source": [
    "i = 1\n",
    "X = kid.drop('buy', axis=1)\n",
    "y = kid.buy\n",
    "X_train, X_test, y_train, y_test = train_test_split(X, y, test_size=0.4, stratify=y, random_state=i)\n",
    "X_test, X_val, y_test, y_val = train_test_split(X_test, y_test, test_size=0.5, stratify=y_test, random_state=i)"
   ]
  },
  {
   "cell_type": "code",
   "execution_count": 417,
   "metadata": {},
   "outputs": [
    {
     "data": {
      "text/html": [
       "<div>\n",
       "<style scoped>\n",
       "    .dataframe tbody tr th:only-of-type {\n",
       "        vertical-align: middle;\n",
       "    }\n",
       "\n",
       "    .dataframe tbody tr th {\n",
       "        vertical-align: top;\n",
       "    }\n",
       "\n",
       "    .dataframe thead th {\n",
       "        text-align: right;\n",
       "    }\n",
       "</style>\n",
       "<table border=\"1\" class=\"dataframe\">\n",
       "  <thead>\n",
       "    <tr style=\"text-align: right;\">\n",
       "      <th></th>\n",
       "      <th>const</th>\n",
       "      <th>obs_no</th>\n",
       "      <th>income</th>\n",
       "      <th>is_female</th>\n",
       "      <th>is_married</th>\n",
       "      <th>has_college</th>\n",
       "      <th>is_professional</th>\n",
       "      <th>is_retired</th>\n",
       "      <th>unemployed</th>\n",
       "      <th>residence_length</th>\n",
       "      <th>dual_income</th>\n",
       "      <th>minors</th>\n",
       "      <th>own</th>\n",
       "      <th>house</th>\n",
       "      <th>white</th>\n",
       "      <th>english</th>\n",
       "      <th>prev_child_mag</th>\n",
       "      <th>prev_parent_mag</th>\n",
       "    </tr>\n",
       "  </thead>\n",
       "  <tbody>\n",
       "    <tr>\n",
       "      <th>361</th>\n",
       "      <td>1.0</td>\n",
       "      <td>362</td>\n",
       "      <td>3000</td>\n",
       "      <td>1</td>\n",
       "      <td>0</td>\n",
       "      <td>0</td>\n",
       "      <td>0</td>\n",
       "      <td>0</td>\n",
       "      <td>0</td>\n",
       "      <td>10</td>\n",
       "      <td>0</td>\n",
       "      <td>1</td>\n",
       "      <td>0</td>\n",
       "      <td>1</td>\n",
       "      <td>1</td>\n",
       "      <td>1</td>\n",
       "      <td>0</td>\n",
       "      <td>0</td>\n",
       "    </tr>\n",
       "    <tr>\n",
       "      <th>324</th>\n",
       "      <td>1.0</td>\n",
       "      <td>325</td>\n",
       "      <td>23000</td>\n",
       "      <td>1</td>\n",
       "      <td>0</td>\n",
       "      <td>0</td>\n",
       "      <td>0</td>\n",
       "      <td>0</td>\n",
       "      <td>0</td>\n",
       "      <td>13</td>\n",
       "      <td>0</td>\n",
       "      <td>0</td>\n",
       "      <td>0</td>\n",
       "      <td>0</td>\n",
       "      <td>1</td>\n",
       "      <td>1</td>\n",
       "      <td>0</td>\n",
       "      <td>0</td>\n",
       "    </tr>\n",
       "    <tr>\n",
       "      <th>395</th>\n",
       "      <td>1.0</td>\n",
       "      <td>396</td>\n",
       "      <td>72000</td>\n",
       "      <td>0</td>\n",
       "      <td>0</td>\n",
       "      <td>0</td>\n",
       "      <td>0</td>\n",
       "      <td>0</td>\n",
       "      <td>0</td>\n",
       "      <td>24</td>\n",
       "      <td>0</td>\n",
       "      <td>0</td>\n",
       "      <td>0</td>\n",
       "      <td>1</td>\n",
       "      <td>1</td>\n",
       "      <td>1</td>\n",
       "      <td>1</td>\n",
       "      <td>0</td>\n",
       "    </tr>\n",
       "    <tr>\n",
       "      <th>668</th>\n",
       "      <td>1.0</td>\n",
       "      <td>669</td>\n",
       "      <td>27000</td>\n",
       "      <td>1</td>\n",
       "      <td>0</td>\n",
       "      <td>0</td>\n",
       "      <td>0</td>\n",
       "      <td>0</td>\n",
       "      <td>0</td>\n",
       "      <td>6</td>\n",
       "      <td>0</td>\n",
       "      <td>1</td>\n",
       "      <td>1</td>\n",
       "      <td>1</td>\n",
       "      <td>1</td>\n",
       "      <td>1</td>\n",
       "      <td>0</td>\n",
       "      <td>0</td>\n",
       "    </tr>\n",
       "    <tr>\n",
       "      <th>205</th>\n",
       "      <td>1.0</td>\n",
       "      <td>206</td>\n",
       "      <td>75000</td>\n",
       "      <td>0</td>\n",
       "      <td>0</td>\n",
       "      <td>0</td>\n",
       "      <td>0</td>\n",
       "      <td>0</td>\n",
       "      <td>0</td>\n",
       "      <td>1</td>\n",
       "      <td>0</td>\n",
       "      <td>1</td>\n",
       "      <td>1</td>\n",
       "      <td>1</td>\n",
       "      <td>1</td>\n",
       "      <td>0</td>\n",
       "      <td>0</td>\n",
       "      <td>1</td>\n",
       "    </tr>\n",
       "    <tr>\n",
       "      <th>...</th>\n",
       "      <td>...</td>\n",
       "      <td>...</td>\n",
       "      <td>...</td>\n",
       "      <td>...</td>\n",
       "      <td>...</td>\n",
       "      <td>...</td>\n",
       "      <td>...</td>\n",
       "      <td>...</td>\n",
       "      <td>...</td>\n",
       "      <td>...</td>\n",
       "      <td>...</td>\n",
       "      <td>...</td>\n",
       "      <td>...</td>\n",
       "      <td>...</td>\n",
       "      <td>...</td>\n",
       "      <td>...</td>\n",
       "      <td>...</td>\n",
       "      <td>...</td>\n",
       "    </tr>\n",
       "    <tr>\n",
       "      <th>282</th>\n",
       "      <td>1.0</td>\n",
       "      <td>283</td>\n",
       "      <td>2000</td>\n",
       "      <td>1</td>\n",
       "      <td>0</td>\n",
       "      <td>0</td>\n",
       "      <td>0</td>\n",
       "      <td>0</td>\n",
       "      <td>0</td>\n",
       "      <td>17</td>\n",
       "      <td>0</td>\n",
       "      <td>1</td>\n",
       "      <td>0</td>\n",
       "      <td>1</td>\n",
       "      <td>0</td>\n",
       "      <td>1</td>\n",
       "      <td>0</td>\n",
       "      <td>0</td>\n",
       "    </tr>\n",
       "    <tr>\n",
       "      <th>257</th>\n",
       "      <td>1.0</td>\n",
       "      <td>258</td>\n",
       "      <td>75000</td>\n",
       "      <td>1</td>\n",
       "      <td>0</td>\n",
       "      <td>1</td>\n",
       "      <td>1</td>\n",
       "      <td>0</td>\n",
       "      <td>0</td>\n",
       "      <td>17</td>\n",
       "      <td>0</td>\n",
       "      <td>0</td>\n",
       "      <td>1</td>\n",
       "      <td>1</td>\n",
       "      <td>1</td>\n",
       "      <td>1</td>\n",
       "      <td>0</td>\n",
       "      <td>0</td>\n",
       "    </tr>\n",
       "    <tr>\n",
       "      <th>515</th>\n",
       "      <td>1.0</td>\n",
       "      <td>516</td>\n",
       "      <td>58000</td>\n",
       "      <td>0</td>\n",
       "      <td>1</td>\n",
       "      <td>0</td>\n",
       "      <td>0</td>\n",
       "      <td>0</td>\n",
       "      <td>0</td>\n",
       "      <td>13</td>\n",
       "      <td>1</td>\n",
       "      <td>0</td>\n",
       "      <td>1</td>\n",
       "      <td>1</td>\n",
       "      <td>1</td>\n",
       "      <td>1</td>\n",
       "      <td>0</td>\n",
       "      <td>0</td>\n",
       "    </tr>\n",
       "    <tr>\n",
       "      <th>399</th>\n",
       "      <td>1.0</td>\n",
       "      <td>400</td>\n",
       "      <td>75000</td>\n",
       "      <td>1</td>\n",
       "      <td>1</td>\n",
       "      <td>0</td>\n",
       "      <td>1</td>\n",
       "      <td>0</td>\n",
       "      <td>0</td>\n",
       "      <td>29</td>\n",
       "      <td>0</td>\n",
       "      <td>0</td>\n",
       "      <td>1</td>\n",
       "      <td>1</td>\n",
       "      <td>1</td>\n",
       "      <td>1</td>\n",
       "      <td>0</td>\n",
       "      <td>0</td>\n",
       "    </tr>\n",
       "    <tr>\n",
       "      <th>593</th>\n",
       "      <td>1.0</td>\n",
       "      <td>594</td>\n",
       "      <td>13000</td>\n",
       "      <td>1</td>\n",
       "      <td>1</td>\n",
       "      <td>0</td>\n",
       "      <td>1</td>\n",
       "      <td>0</td>\n",
       "      <td>0</td>\n",
       "      <td>12</td>\n",
       "      <td>0</td>\n",
       "      <td>0</td>\n",
       "      <td>1</td>\n",
       "      <td>1</td>\n",
       "      <td>1</td>\n",
       "      <td>1</td>\n",
       "      <td>0</td>\n",
       "      <td>0</td>\n",
       "    </tr>\n",
       "  </tbody>\n",
       "</table>\n",
       "<p>403 rows × 18 columns</p>\n",
       "</div>"
      ],
      "text/plain": [
       "     const  obs_no  income  is_female  is_married  has_college  \\\n",
       "361    1.0     362    3000          1           0            0   \n",
       "324    1.0     325   23000          1           0            0   \n",
       "395    1.0     396   72000          0           0            0   \n",
       "668    1.0     669   27000          1           0            0   \n",
       "205    1.0     206   75000          0           0            0   \n",
       "..     ...     ...     ...        ...         ...          ...   \n",
       "282    1.0     283    2000          1           0            0   \n",
       "257    1.0     258   75000          1           0            1   \n",
       "515    1.0     516   58000          0           1            0   \n",
       "399    1.0     400   75000          1           1            0   \n",
       "593    1.0     594   13000          1           1            0   \n",
       "\n",
       "     is_professional  is_retired  unemployed  residence_length  dual_income  \\\n",
       "361                0           0           0                10            0   \n",
       "324                0           0           0                13            0   \n",
       "395                0           0           0                24            0   \n",
       "668                0           0           0                 6            0   \n",
       "205                0           0           0                 1            0   \n",
       "..               ...         ...         ...               ...          ...   \n",
       "282                0           0           0                17            0   \n",
       "257                1           0           0                17            0   \n",
       "515                0           0           0                13            1   \n",
       "399                1           0           0                29            0   \n",
       "593                1           0           0                12            0   \n",
       "\n",
       "     minors  own  house  white  english  prev_child_mag  prev_parent_mag  \n",
       "361       1    0      1      1        1               0                0  \n",
       "324       0    0      0      1        1               0                0  \n",
       "395       0    0      1      1        1               1                0  \n",
       "668       1    1      1      1        1               0                0  \n",
       "205       1    1      1      1        0               0                1  \n",
       "..      ...  ...    ...    ...      ...             ...              ...  \n",
       "282       1    0      1      0        1               0                0  \n",
       "257       0    1      1      1        1               0                0  \n",
       "515       0    1      1      1        1               0                0  \n",
       "399       0    1      1      1        1               0                0  \n",
       "593       0    1      1      1        1               0                0  \n",
       "\n",
       "[403 rows x 18 columns]"
      ]
     },
     "execution_count": 417,
     "metadata": {},
     "output_type": "execute_result"
    }
   ],
   "source": [
    "sm.add_constant(X_train)"
   ]
  },
  {
   "cell_type": "code",
   "execution_count": 459,
   "metadata": {},
   "outputs": [
    {
     "name": "stdout",
     "output_type": "stream",
     "text": [
      "                 Generalized Linear Model Regression Results                  \n",
      "==============================================================================\n",
      "Dep. Variable:                    buy   No. Observations:                  403\n",
      "Model:                            GLM   Df Residuals:                      385\n",
      "Model Family:                Binomial   Df Model:                           17\n",
      "Link Function:                  logit   Scale:                          1.0000\n",
      "Method:                          IRLS   Log-Likelihood:                -40.345\n",
      "Date:                Sun, 06 Feb 2022   Deviance:                       80.689\n",
      "Time:                        12:41:17   Pearson chi2:                     122.\n",
      "No. Iterations:                    23                                         \n",
      "Covariance Type:            nonrobust                                         \n",
      "====================================================================================\n",
      "                       coef    std err          z      P>|z|      [0.025      0.975]\n",
      "------------------------------------------------------------------------------------\n",
      "const              -22.7702      4.258     -5.347      0.000     -31.117     -14.424\n",
      "obs_no               0.0016      0.002      0.916      0.360      -0.002       0.005\n",
      "income               0.0003   4.89e-05      5.378      0.000       0.000       0.000\n",
      "is_female            2.6154      0.816      3.204      0.001       1.015       4.215\n",
      "is_married           1.0754      1.032      1.042      0.297      -0.947       3.098\n",
      "has_college         -0.6388      0.723     -0.883      0.377      -2.056       0.778\n",
      "is_professional      0.2857      0.687      0.416      0.678      -1.061       1.633\n",
      "is_retired         -23.4145   1.82e+04     -0.001      0.999   -3.57e+04    3.57e+04\n",
      "unemployed         -15.0248   2.93e+04     -0.001      1.000   -5.74e+04    5.73e+04\n",
      "residence_length    -0.0091      0.026     -0.353      0.724      -0.060       0.041\n",
      "dual_income          0.5107      0.861      0.593      0.553      -1.177       2.199\n",
      "minors               1.1813      0.717      1.648      0.099      -0.223       2.586\n",
      "own                  1.9048      1.018      1.871      0.061      -0.091       3.900\n",
      "house               -1.4752      1.125     -1.311      0.190      -3.680       0.730\n",
      "white                1.8447      0.749      2.464      0.014       0.377       3.312\n",
      "english              1.9180      1.479      1.296      0.195      -0.982       4.818\n",
      "prev_child_mag       4.0229      1.289      3.121      0.002       1.497       6.549\n",
      "prev_parent_mag      2.5951      1.069      2.427      0.015       0.499       4.691\n",
      "====================================================================================\n"
     ]
    }
   ],
   "source": [
    "# a_model: 모든 변수를 사용한 모델\n",
    "y = y_train\n",
    "x = sm.add_constant(X_train)\n",
    "a_model = sm.GLM(y, x, family=sm.families.Binomial()).fit()\n",
    "print(a_model.summary())"
   ]
  },
  {
   "cell_type": "code",
   "execution_count": 372,
   "metadata": {},
   "outputs": [],
   "source": [
    "def get_accuracy(answer, pred):\n",
    "    pred = [1 if val >= 0.5 else 0 for val in pred]\n",
    "    confusion = confusion_matrix(answer, pred)\n",
    "    TN = confusion[0][0]\n",
    "    FN = confusion[0][1]\n",
    "    FP = confusion[1][0]\n",
    "    TP = confusion[1][1]\n",
    "    acc = (TN + TP) / (TN+FN+FP+TP)\n",
    "    return acc"
   ]
  },
  {
   "cell_type": "code",
   "execution_count": 373,
   "metadata": {},
   "outputs": [
    {
     "data": {
      "text/plain": [
       "0.8518518518518519"
      ]
     },
     "execution_count": 373,
     "metadata": {},
     "output_type": "execute_result"
    }
   ],
   "source": [
    "get_accuracy(y_test, a_model.predict(X_test))"
   ]
  },
  {
   "cell_type": "markdown",
   "metadata": {},
   "source": [
    "## 모델 함수와 상수항 포함 여부에 따른 aic 변화 확인"
   ]
  },
  {
   "cell_type": "markdown",
   "metadata": {},
   "source": [
    "### sm.GLM.from_formula()\n",
    "- family=sm.families.Binomial()"
   ]
  },
  {
   "cell_type": "code",
   "execution_count": 506,
   "metadata": {},
   "outputs": [
    {
     "data": {
      "text/plain": [
       "389.30272479858155"
      ]
     },
     "execution_count": 506,
     "metadata": {},
     "output_type": "execute_result"
    }
   ],
   "source": [
    "# 독립변수: 1\n",
    "sm.GLM.from_formula('buy ~ 1',data=pd.concat([y_train, sm.add_constant(X_train)], axis=1), family=sm.families.Binomial()).fit().aic"
   ]
  },
  {
   "cell_type": "code",
   "execution_count": 507,
   "metadata": {},
   "outputs": [
    {
     "data": {
      "text/plain": [
       "389.3027247985817"
      ]
     },
     "execution_count": 507,
     "metadata": {},
     "output_type": "execute_result"
    }
   ],
   "source": [
    "# 독립변수: constant\n",
    "sm.GLM.from_formula('buy ~ const',data=pd.concat([y_train, sm.add_constant(X_train)], axis=1), family=sm.families.Binomial()).fit().aic"
   ]
  },
  {
   "cell_type": "markdown",
   "metadata": {},
   "source": [
    "### -> 독립변수가 1일때의 aic값과 add_constant로 1인 값을 넣어주었을 때의 aic 값은 거의 동일함"
   ]
  },
  {
   "cell_type": "code",
   "execution_count": null,
   "metadata": {},
   "outputs": [],
   "source": []
  },
  {
   "cell_type": "code",
   "execution_count": 511,
   "metadata": {},
   "outputs": [
    {
     "data": {
      "text/plain": [
       "161.11123338684115"
      ]
     },
     "execution_count": 511,
     "metadata": {},
     "output_type": "execute_result"
    }
   ],
   "source": [
    "# 독립변수: 1 + constant\n",
    "sm.GLM.from_formula('buy ~ const+income',data=pd.concat([y_train, sm.add_constant(X_train)], axis=1), family=sm.families.Binomial()).fit().aic"
   ]
  },
  {
   "cell_type": "code",
   "execution_count": 512,
   "metadata": {},
   "outputs": [
    {
     "data": {
      "text/plain": [
       "161.11123338684112"
      ]
     },
     "execution_count": 512,
     "metadata": {},
     "output_type": "execute_result"
    }
   ],
   "source": [
    "# 독립변수: constant + 1\n",
    "sm.GLM.from_formula('buy ~ income+const',data=pd.concat([y_train, sm.add_constant(X_train)], axis=1), family=sm.families.Binomial()).fit().aic"
   ]
  },
  {
   "cell_type": "markdown",
   "metadata": {},
   "source": [
    "### -> formula에서 독립 변수의 순서는 바꾸어도 차이가 없다"
   ]
  },
  {
   "cell_type": "code",
   "execution_count": null,
   "metadata": {},
   "outputs": [],
   "source": []
  },
  {
   "cell_type": "code",
   "execution_count": 495,
   "metadata": {},
   "outputs": [
    {
     "data": {
      "text/plain": [
       "161.11123338684112"
      ]
     },
     "execution_count": 495,
     "metadata": {},
     "output_type": "execute_result"
    }
   ],
   "source": [
    "# income\n",
    "sm.GLM.from_formula('buy ~ income',data=pd.concat([y_train, sm.add_constant(X_train)], axis=1), family=sm.families.Binomial()).fit().aic"
   ]
  },
  {
   "cell_type": "code",
   "execution_count": 496,
   "metadata": {},
   "outputs": [
    {
     "data": {
      "text/plain": [
       "161.11123338684115"
      ]
     },
     "execution_count": 496,
     "metadata": {},
     "output_type": "execute_result"
    }
   ],
   "source": [
    "sm.GLM.from_formula('buy ~ const+income',data=pd.concat([y_train, sm.add_constant(X_train)], axis=1), family=sm.families.Binomial()).fit().aic"
   ]
  },
  {
   "cell_type": "markdown",
   "metadata": {},
   "source": [
    "### intercept(constant)는 항상 필요하기 때문에 fomula의 우측에 항상 숨겨져 있다.\n",
    "- https://patsy.readthedocs.io/en/latest/formulas.html#the-formula-language\n",
    "- Intercept handling\n",
    "\n",
    "There are two special things about how intercept terms are handled inside the formula parser.\n",
    "\n",
    "First, since an intercept term is an interaction of zero factors, we have no way to write it down using the parts of the language described so far. Therefore, as a special case, the string 1 is taken to represent the intercept term.\n",
    "\n",
    "Second, since intercept terms are almost always wanted and remembering to include them by hand all the time is quite tedious, they are always included by default in the right-hand side of any formula. The way this is implemented is exactly as if there is an invisible 1 + inserted at the beginning of every right-hand side.\n",
    "\n",
    "Of course, if you don’t want an intercept, you can remove it again just like any other unwanted term, using the - operator. The only thing that’s special about the 1 + is that it’s invisible; otherwise it acts just like any other term. This formula has an intercept:"
   ]
  },
  {
   "cell_type": "code",
   "execution_count": null,
   "metadata": {},
   "outputs": [],
   "source": []
  },
  {
   "cell_type": "markdown",
   "metadata": {},
   "source": [
    "## sm.GLM()\n",
    "- family=sm.families.Binomial()"
   ]
  },
  {
   "cell_type": "code",
   "execution_count": 497,
   "metadata": {},
   "outputs": [
    {
     "data": {
      "text/plain": [
       "389.30272479858155"
      ]
     },
     "execution_count": 497,
     "metadata": {},
     "output_type": "execute_result"
    }
   ],
   "source": [
    "# 독립변수: constant\n",
    "sm.GLM(y_train, sm.add_constant(X_train[[]]), family=sm.families.Binomial()).fit().aic"
   ]
  },
  {
   "cell_type": "code",
   "execution_count": 498,
   "metadata": {},
   "outputs": [
    {
     "data": {
      "text/plain": [
       "161.1112333868411"
      ]
     },
     "execution_count": 498,
     "metadata": {},
     "output_type": "execute_result"
    }
   ],
   "source": [
    "# 독립변수: constant+income\n",
    "sm.GLM(y_train, sm.add_constant(X_train[['income']]), family=sm.families.Binomial()).fit().aic"
   ]
  },
  {
   "cell_type": "code",
   "execution_count": 499,
   "metadata": {},
   "outputs": [
    {
     "data": {
      "text/plain": [
       "540.3273404517961"
      ]
     },
     "execution_count": 499,
     "metadata": {},
     "output_type": "execute_result"
    }
   ],
   "source": [
    "# 독립변수: income\n",
    "sm.GLM(y_train, X_train[['income']], family=sm.families.Binomial()).fit().aic"
   ]
  },
  {
   "cell_type": "markdown",
   "metadata": {},
   "source": [
    "### -> formula가 아닌 경우 intercept(constant)를 명시적으로 포함시켜주어야 함"
   ]
  },
  {
   "cell_type": "code",
   "execution_count": null,
   "metadata": {},
   "outputs": [],
   "source": []
  },
  {
   "cell_type": "markdown",
   "metadata": {},
   "source": [
    "## logit()"
   ]
  },
  {
   "cell_type": "code",
   "execution_count": 517,
   "metadata": {},
   "outputs": [
    {
     "name": "stdout",
     "output_type": "stream",
     "text": [
      "Optimization terminated successfully.\n",
      "         Current function value: 0.480524\n",
      "         Iterations 5\n"
     ]
    },
    {
     "data": {
      "text/plain": [
       "389.3027247985816"
      ]
     },
     "execution_count": 517,
     "metadata": {},
     "output_type": "execute_result"
    }
   ],
   "source": [
    "# 독립변수: 1\n",
    "logit('buy ~ 1',data=pd.concat([y_train, sm.add_constant(X_train)], axis=1)).fit().aic"
   ]
  },
  {
   "cell_type": "code",
   "execution_count": 518,
   "metadata": {},
   "outputs": [
    {
     "name": "stdout",
     "output_type": "stream",
     "text": [
      "Optimization terminated successfully.\n",
      "         Current function value: 0.194927\n",
      "         Iterations 9\n"
     ]
    },
    {
     "data": {
      "text/plain": [
       "161.11123338684115"
      ]
     },
     "execution_count": 518,
     "metadata": {},
     "output_type": "execute_result"
    }
   ],
   "source": [
    "# 독립변수: income\n",
    "logit('buy ~ income',data=pd.concat([y_train, sm.add_constant(X_train)], axis=1)).fit().aic"
   ]
  },
  {
   "cell_type": "code",
   "execution_count": 502,
   "metadata": {},
   "outputs": [
    {
     "name": "stdout",
     "output_type": "stream",
     "text": [
      "Optimization terminated successfully.\n",
      "         Current function value: 0.194927\n",
      "         Iterations 9\n"
     ]
    },
    {
     "data": {
      "text/plain": [
       "161.11123338684115"
      ]
     },
     "execution_count": 502,
     "metadata": {},
     "output_type": "execute_result"
    }
   ],
   "source": [
    "# 독립변수: 1+income\n",
    "logit('buy ~ 1+income',data=pd.concat([y_train, sm.add_constant(X_train)], axis=1)).fit().aic"
   ]
  },
  {
   "cell_type": "markdown",
   "metadata": {},
   "source": [
    "### -> formula를 사용하는 경우 logit 함수와 GLM함수의 결과는 동일하다"
   ]
  },
  {
   "cell_type": "code",
   "execution_count": null,
   "metadata": {},
   "outputs": [],
   "source": []
  },
  {
   "cell_type": "code",
   "execution_count": 554,
   "metadata": {},
   "outputs": [
    {
     "name": "stdout",
     "output_type": "stream",
     "text": [
      "\n",
      "income\n",
      "income, is_female\n",
      "income, is_female, is_married\n",
      "income, is_female, is_married, is_retired\n",
      "income, is_female, is_married, is_retired, white\n",
      "income, is_female, is_married, is_retired, white, prev_child_mag\n",
      "income, is_female, is_married, is_retired, white, prev_child_mag, prev_parent_mag\n"
     ]
    }
   ],
   "source": [
    "# s_model: 양방향 선택\n",
    "\n",
    "target_features = X_train.columns.tolist()\n",
    "selected_features = []\n",
    "y = y_train\n",
    "x = sm.add_constant(X_train)\n",
    "\n",
    "for i in range(len(target_features)):\n",
    "    temp = pd.DataFrame(columns=['feature', 'AIC'])\n",
    "    print(', '.join(selected_features) )\n",
    "    start_model = sm.GLM(y, x[['const']+selected_features], family=sm.families.Binomial()).fit()\n",
    "    temp = temp.append(pd.Series(['<none>', start_model.aic], index=['feature', 'AIC']), ignore_index=True)\n",
    "    for t_feature in target_features:\n",
    "        temp_model = sm.GLM(y, x[['const']+selected_features+[t_feature]], family=sm.families.Binomial()).fit()\n",
    "        temp = temp.append(pd.Series([' + '+t_feature, temp_model.aic], index=['feature', 'AIC']), ignore_index=True)\n",
    "    if i > 0:\n",
    "        for s_feature in selected_features:\n",
    "            temp_model = sm.GLM(y, x[['const']+[f for f in selected_features if f != s_feature]], family=sm.families.Binomial()).fit()\n",
    "            temp = temp.append(pd.Series([' - '+s_feature, temp_model.aic], index=['feature', 'AIC']), ignore_index=True)\n",
    "    temp.sort_values('AIC', inplace=True)\n",
    "#     display(temp)\n",
    "    top_feature = temp.iloc[0, 0]\n",
    "    if top_feature.startswith(' +'):\n",
    "        selected_features.append(top_feature[3:])\n",
    "        target_features.remove(top_feature[3:])\n",
    "    elif top_feature.startswith(' -'):\n",
    "        selected_features.remove(top_feature[3:])\n",
    "    else:\n",
    "        break"
   ]
  },
  {
   "cell_type": "code",
   "execution_count": 555,
   "metadata": {},
   "outputs": [
    {
     "name": "stdout",
     "output_type": "stream",
     "text": [
      "                 Generalized Linear Model Regression Results                  \n",
      "==============================================================================\n",
      "Dep. Variable:                    buy   No. Observations:                  403\n",
      "Model:                            GLM   Df Residuals:                      397\n",
      "Model Family:                Binomial   Df Model:                            5\n",
      "Link Function:                  logit   Scale:                          1.0000\n",
      "Method:                          IRLS   Log-Likelihood:                -56.311\n",
      "Date:                Sun, 06 Feb 2022   Deviance:                       112.62\n",
      "Time:                        19:02:44   Pearson chi2:                     184.\n",
      "No. Iterations:                     9                                         \n",
      "Covariance Type:            nonrobust                                         \n",
      "===================================================================================\n",
      "                      coef    std err          z      P>|z|      [0.025      0.975]\n",
      "-----------------------------------------------------------------------------------\n",
      "const             -15.3672      2.230     -6.890      0.000     -19.738     -10.996\n",
      "income              0.0002   2.91e-05      6.898      0.000       0.000       0.000\n",
      "is_female           2.5233      0.626      4.029      0.000       1.296       3.751\n",
      "white               1.5723      0.588      2.674      0.008       0.420       2.725\n",
      "prev_child_mag      3.8943      1.155      3.370      0.001       1.630       6.159\n",
      "prev_parent_mag     1.9429      0.834      2.329      0.020       0.308       3.578\n",
      "===================================================================================\n"
     ]
    }
   ],
   "source": [
    "# p_model: Pr(>|z|)가 유의한 변수를 사용한 모델\n",
    "x = sm.add_constant(X_train)\n",
    "drop_cols = []\n",
    "while True:\n",
    "    p_model = sm.GLM(y_train, x, family=sm.families.Binomial()).fit()\n",
    "    drop_cols =  p_model.pvalues.index[p_model.pvalues > 0.05]\n",
    "    if len(drop_cols):\n",
    "        x.drop(drop_cols, axis=1, inplace=True)\n",
    "    else:\n",
    "        break\n",
    "print(p_model.summary())"
   ]
  },
  {
   "cell_type": "code",
   "execution_count": 605,
   "metadata": {},
   "outputs": [],
   "source": [
    "acc = pd.DataFrame(columns=['train_a', 'train_s', 'train_p', 'val_a', 'val_s', 'val_p', 'test_a', 'test_s', 'test_p'])\n",
    "for i in range(10):\n",
    "    X = kid.drop('buy', axis=1)\n",
    "    y = kid.buy\n",
    "    X_train, X_test, y_train, y_test = train_test_split(X, y, test_size=0.4, stratify=y, random_state=i)\n",
    "    X_test, X_val, y_test, y_val = train_test_split(X_test, y_test, test_size=0.5, stratify=y_test, random_state=i)\n",
    "\n",
    "    # a_model: 모든 변수를 사용한 모델\n",
    "    x = sm.add_constant(X_train)\n",
    "    a_model = sm.GLM(y_train, x, family=sm.families.Binomial()).fit()\n",
    "\n",
    "    # s_model: 양방향 선택\n",
    "    target_features = X_train.columns.tolist()\n",
    "    selected_features = []\n",
    "    x = sm.add_constant(X_train)\n",
    "\n",
    "    for j in range(len(target_features)):\n",
    "        temp = pd.DataFrame(columns=['feature', 'AIC'])\n",
    "    #     print(', '.join(selected_features) )\n",
    "        start_model = sm.GLM(y_train, x[['const']+selected_features], family=sm.families.Binomial()).fit()\n",
    "        temp = temp.append(pd.Series(['<none>', start_model.aic], index=['feature', 'AIC']), ignore_index=True)\n",
    "        for t_feature in target_features:\n",
    "            temp_model = sm.GLM(y_train, x[['const']+selected_features+[t_feature]], family=sm.families.Binomial()).fit()\n",
    "            temp = temp.append(pd.Series([' + '+t_feature, temp_model.aic], index=['feature', 'AIC']), ignore_index=True)\n",
    "        if j > 0:\n",
    "            for s_feature in selected_features:\n",
    "                temp_model = sm.GLM(y_train, x[['const']+[f for f in selected_features if f != s_feature]], family=sm.families.Binomial()).fit()\n",
    "                temp = temp.append(pd.Series([' - '+s_feature, temp_model.aic], index=['feature', 'AIC']), ignore_index=True)\n",
    "        temp.sort_values('AIC', inplace=True)\n",
    "    #     display(temp)\n",
    "        top_feature = temp.iloc[0, 0]\n",
    "        if top_feature.startswith(' +'):\n",
    "            selected_features.append(top_feature[3:])\n",
    "            target_features.remove(top_feature[3:])\n",
    "        elif top_feature.startswith(' -'):\n",
    "            selected_features.remove(top_feature[3:])\n",
    "        else:\n",
    "            break\n",
    "    s_model = sm.GLM(y_train, x[['const']+selected_features], family=sm.families.Binomial()).fit()\n",
    "\n",
    "    # p_model: Pr(>|z|)가 유의한 변수를 사용한 모델\n",
    "    x = sm.add_constant(X_train)\n",
    "    drop_cols = []\n",
    "    while True:\n",
    "        p_model = sm.GLM(y_train, x, family=sm.families.Binomial()).fit()\n",
    "        drop_cols =  p_model.pvalues.index[p_model.pvalues > 0.05]\n",
    "        if len(drop_cols):\n",
    "            x.drop(drop_cols, axis=1, inplace=True)\n",
    "        else:\n",
    "            break\n",
    "\n",
    "    acc_train_a = get_accuracy(y_train, a_model.predict(sm.add_constant(X_train)))\n",
    "    acc_train_s = get_accuracy(y_train, s_model.predict(sm.add_constant(X_train[selected_features])))\n",
    "    acc_train_p = get_accuracy(y_train, p_model.predict(sm.add_constant(X_train)[p_model.params.index]))\n",
    "    \n",
    "    acc_val_a = get_accuracy(y_val, a_model.predict(sm.add_constant(X_val)))\n",
    "    acc_val_s = get_accuracy(y_val, s_model.predict(sm.add_constant(X_val[selected_features])))\n",
    "    acc_val_p = get_accuracy(y_val, p_model.predict(sm.add_constant(X_val)[p_model.params.index]))\n",
    "    \n",
    "    acc_test_a = get_accuracy(y_test, a_model.predict(sm.add_constant(X_test)))\n",
    "    acc_test_s = get_accuracy(y_test, s_model.predict(sm.add_constant(X_test[selected_features])))\n",
    "    acc_test_p = get_accuracy(y_test, p_model.predict(sm.add_constant(X_test)[p_model.params.index]))\n",
    "\n",
    "    acc = acc.append(pd.Series([round(val*100, 2) for val in [acc_train_a, acc_train_s, acc_train_p, \n",
    "                                                              acc_val_a, acc_val_s, acc_val_p, \n",
    "                                                              acc_test_a, acc_test_s, acc_test_p]], index=['train_a', 'train_s', 'train_p', \n",
    "                                                                                                           'val_a', 'val_s', 'val_p',\n",
    "                                                                                                           'test_a', 'test_s', 'test_p']), ignore_index=True)"
   ]
  },
  {
   "cell_type": "code",
   "execution_count": 606,
   "metadata": {},
   "outputs": [
    {
     "data": {
      "text/html": [
       "<div>\n",
       "<style scoped>\n",
       "    .dataframe tbody tr th:only-of-type {\n",
       "        vertical-align: middle;\n",
       "    }\n",
       "\n",
       "    .dataframe tbody tr th {\n",
       "        vertical-align: top;\n",
       "    }\n",
       "\n",
       "    .dataframe thead th {\n",
       "        text-align: right;\n",
       "    }\n",
       "</style>\n",
       "<table border=\"1\" class=\"dataframe\">\n",
       "  <thead>\n",
       "    <tr style=\"text-align: right;\">\n",
       "      <th></th>\n",
       "      <th>train_a</th>\n",
       "      <th>train_s</th>\n",
       "      <th>train_p</th>\n",
       "      <th>val_a</th>\n",
       "      <th>val_s</th>\n",
       "      <th>val_p</th>\n",
       "      <th>test_a</th>\n",
       "      <th>test_s</th>\n",
       "      <th>test_p</th>\n",
       "    </tr>\n",
       "  </thead>\n",
       "  <tbody>\n",
       "    <tr>\n",
       "      <th>0</th>\n",
       "      <td>96.030</td>\n",
       "      <td>96.030</td>\n",
       "      <td>95.040</td>\n",
       "      <td>87.410</td>\n",
       "      <td>91.110</td>\n",
       "      <td>92.590</td>\n",
       "      <td>89.630</td>\n",
       "      <td>88.890</td>\n",
       "      <td>91.110</td>\n",
       "    </tr>\n",
       "    <tr>\n",
       "      <th>1</th>\n",
       "      <td>95.530</td>\n",
       "      <td>95.530</td>\n",
       "      <td>93.550</td>\n",
       "      <td>89.630</td>\n",
       "      <td>89.630</td>\n",
       "      <td>88.150</td>\n",
       "      <td>88.890</td>\n",
       "      <td>88.890</td>\n",
       "      <td>92.590</td>\n",
       "    </tr>\n",
       "    <tr>\n",
       "      <th>2</th>\n",
       "      <td>94.540</td>\n",
       "      <td>93.550</td>\n",
       "      <td>95.040</td>\n",
       "      <td>89.630</td>\n",
       "      <td>91.110</td>\n",
       "      <td>90.370</td>\n",
       "      <td>91.850</td>\n",
       "      <td>92.590</td>\n",
       "      <td>94.070</td>\n",
       "    </tr>\n",
       "    <tr>\n",
       "      <th>3</th>\n",
       "      <td>94.790</td>\n",
       "      <td>93.550</td>\n",
       "      <td>92.800</td>\n",
       "      <td>94.070</td>\n",
       "      <td>94.810</td>\n",
       "      <td>94.810</td>\n",
       "      <td>92.590</td>\n",
       "      <td>91.110</td>\n",
       "      <td>89.630</td>\n",
       "    </tr>\n",
       "    <tr>\n",
       "      <th>4</th>\n",
       "      <td>94.790</td>\n",
       "      <td>94.790</td>\n",
       "      <td>93.050</td>\n",
       "      <td>90.370</td>\n",
       "      <td>91.850</td>\n",
       "      <td>91.850</td>\n",
       "      <td>91.850</td>\n",
       "      <td>91.110</td>\n",
       "      <td>91.850</td>\n",
       "    </tr>\n",
       "    <tr>\n",
       "      <th>5</th>\n",
       "      <td>94.040</td>\n",
       "      <td>93.550</td>\n",
       "      <td>93.050</td>\n",
       "      <td>91.110</td>\n",
       "      <td>91.110</td>\n",
       "      <td>90.370</td>\n",
       "      <td>92.590</td>\n",
       "      <td>91.850</td>\n",
       "      <td>92.590</td>\n",
       "    </tr>\n",
       "    <tr>\n",
       "      <th>6</th>\n",
       "      <td>94.290</td>\n",
       "      <td>93.050</td>\n",
       "      <td>91.810</td>\n",
       "      <td>94.070</td>\n",
       "      <td>95.560</td>\n",
       "      <td>95.560</td>\n",
       "      <td>91.850</td>\n",
       "      <td>91.850</td>\n",
       "      <td>91.850</td>\n",
       "    </tr>\n",
       "    <tr>\n",
       "      <th>7</th>\n",
       "      <td>95.780</td>\n",
       "      <td>95.290</td>\n",
       "      <td>95.040</td>\n",
       "      <td>92.590</td>\n",
       "      <td>93.330</td>\n",
       "      <td>91.850</td>\n",
       "      <td>91.850</td>\n",
       "      <td>92.590</td>\n",
       "      <td>93.330</td>\n",
       "    </tr>\n",
       "    <tr>\n",
       "      <th>8</th>\n",
       "      <td>93.550</td>\n",
       "      <td>94.040</td>\n",
       "      <td>93.050</td>\n",
       "      <td>93.330</td>\n",
       "      <td>94.070</td>\n",
       "      <td>91.110</td>\n",
       "      <td>93.330</td>\n",
       "      <td>94.070</td>\n",
       "      <td>95.560</td>\n",
       "    </tr>\n",
       "    <tr>\n",
       "      <th>9</th>\n",
       "      <td>96.030</td>\n",
       "      <td>94.790</td>\n",
       "      <td>94.540</td>\n",
       "      <td>89.630</td>\n",
       "      <td>90.370</td>\n",
       "      <td>88.890</td>\n",
       "      <td>91.850</td>\n",
       "      <td>94.070</td>\n",
       "      <td>94.070</td>\n",
       "    </tr>\n",
       "    <tr>\n",
       "      <th>AVG</th>\n",
       "      <td>94.937</td>\n",
       "      <td>94.417</td>\n",
       "      <td>93.697</td>\n",
       "      <td>91.184</td>\n",
       "      <td>92.295</td>\n",
       "      <td>91.555</td>\n",
       "      <td>91.628</td>\n",
       "      <td>91.702</td>\n",
       "      <td>92.665</td>\n",
       "    </tr>\n",
       "  </tbody>\n",
       "</table>\n",
       "</div>"
      ],
      "text/plain": [
       "     train_a  train_s  train_p   val_a   val_s   val_p  test_a  test_s  test_p\n",
       "0     96.030   96.030   95.040  87.410  91.110  92.590  89.630  88.890  91.110\n",
       "1     95.530   95.530   93.550  89.630  89.630  88.150  88.890  88.890  92.590\n",
       "2     94.540   93.550   95.040  89.630  91.110  90.370  91.850  92.590  94.070\n",
       "3     94.790   93.550   92.800  94.070  94.810  94.810  92.590  91.110  89.630\n",
       "4     94.790   94.790   93.050  90.370  91.850  91.850  91.850  91.110  91.850\n",
       "5     94.040   93.550   93.050  91.110  91.110  90.370  92.590  91.850  92.590\n",
       "6     94.290   93.050   91.810  94.070  95.560  95.560  91.850  91.850  91.850\n",
       "7     95.780   95.290   95.040  92.590  93.330  91.850  91.850  92.590  93.330\n",
       "8     93.550   94.040   93.050  93.330  94.070  91.110  93.330  94.070  95.560\n",
       "9     96.030   94.790   94.540  89.630  90.370  88.890  91.850  94.070  94.070\n",
       "AVG   94.937   94.417   93.697  91.184  92.295  91.555  91.628  91.702  92.665"
      ]
     },
     "execution_count": 606,
     "metadata": {},
     "output_type": "execute_result"
    }
   ],
   "source": [
    "acc = pd.concat([acc, pd.DataFrame(acc.mean(), columns=['AVG']).T])\n",
    "acc"
   ]
  }
 ],
 "metadata": {
  "kernelspec": {
   "display_name": "Python 3 (ipykernel)",
   "language": "python",
   "name": "python3"
  },
  "language_info": {
   "codemirror_mode": {
    "name": "ipython",
    "version": 3
   },
   "file_extension": ".py",
   "mimetype": "text/x-python",
   "name": "python",
   "nbconvert_exporter": "python",
   "pygments_lexer": "ipython3",
   "version": "3.9.7"
  }
 },
 "nbformat": 4,
 "nbformat_minor": 2
}
