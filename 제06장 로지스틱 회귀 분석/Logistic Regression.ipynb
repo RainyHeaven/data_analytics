{
 "cells": [
  {
   "cell_type": "code",
   "execution_count": 210,
   "metadata": {},
   "outputs": [],
   "source": [
    "import pandas as pd\n",
    "import numpy as np\n",
    "from statsmodels.formula.api import ols\n",
    "from statsmodels.formula.api import logit\n",
    "\n",
    "import matplotlib.pyplot as plt\n",
    "from sklearn.linear_model import  LogisticRegression\n",
    "\n",
    "%matplotlib inline"
   ]
  },
  {
   "cell_type": "code",
   "execution_count": 2,
   "metadata": {},
   "outputs": [],
   "source": [
    "raw = pd.read_excel('연소득과주택소유.xlsx')"
   ]
  },
  {
   "cell_type": "code",
   "execution_count": 3,
   "metadata": {},
   "outputs": [],
   "source": [
    "data = raw.copy()"
   ]
  },
  {
   "cell_type": "code",
   "execution_count": 4,
   "metadata": {},
   "outputs": [
    {
     "data": {
      "text/html": [
       "<div>\n",
       "<style scoped>\n",
       "    .dataframe tbody tr th:only-of-type {\n",
       "        vertical-align: middle;\n",
       "    }\n",
       "\n",
       "    .dataframe tbody tr th {\n",
       "        vertical-align: top;\n",
       "    }\n",
       "\n",
       "    .dataframe thead th {\n",
       "        text-align: right;\n",
       "    }\n",
       "</style>\n",
       "<table border=\"1\" class=\"dataframe\">\n",
       "  <thead>\n",
       "    <tr style=\"text-align: right;\">\n",
       "      <th></th>\n",
       "      <th>Record</th>\n",
       "      <th>Income</th>\n",
       "      <th>House</th>\n",
       "    </tr>\n",
       "  </thead>\n",
       "  <tbody>\n",
       "    <tr>\n",
       "      <th>0</th>\n",
       "      <td>1</td>\n",
       "      <td>12</td>\n",
       "      <td>0</td>\n",
       "    </tr>\n",
       "    <tr>\n",
       "      <th>1</th>\n",
       "      <td>2</td>\n",
       "      <td>18</td>\n",
       "      <td>0</td>\n",
       "    </tr>\n",
       "    <tr>\n",
       "      <th>2</th>\n",
       "      <td>3</td>\n",
       "      <td>21</td>\n",
       "      <td>0</td>\n",
       "    </tr>\n",
       "    <tr>\n",
       "      <th>3</th>\n",
       "      <td>4</td>\n",
       "      <td>22</td>\n",
       "      <td>0</td>\n",
       "    </tr>\n",
       "    <tr>\n",
       "      <th>4</th>\n",
       "      <td>5</td>\n",
       "      <td>22</td>\n",
       "      <td>0</td>\n",
       "    </tr>\n",
       "    <tr>\n",
       "      <th>...</th>\n",
       "      <td>...</td>\n",
       "      <td>...</td>\n",
       "      <td>...</td>\n",
       "    </tr>\n",
       "    <tr>\n",
       "      <th>95</th>\n",
       "      <td>96</td>\n",
       "      <td>93</td>\n",
       "      <td>1</td>\n",
       "    </tr>\n",
       "    <tr>\n",
       "      <th>96</th>\n",
       "      <td>97</td>\n",
       "      <td>93</td>\n",
       "      <td>1</td>\n",
       "    </tr>\n",
       "    <tr>\n",
       "      <th>97</th>\n",
       "      <td>98</td>\n",
       "      <td>94</td>\n",
       "      <td>1</td>\n",
       "    </tr>\n",
       "    <tr>\n",
       "      <th>98</th>\n",
       "      <td>99</td>\n",
       "      <td>95</td>\n",
       "      <td>1</td>\n",
       "    </tr>\n",
       "    <tr>\n",
       "      <th>99</th>\n",
       "      <td>100</td>\n",
       "      <td>95</td>\n",
       "      <td>1</td>\n",
       "    </tr>\n",
       "  </tbody>\n",
       "</table>\n",
       "<p>100 rows × 3 columns</p>\n",
       "</div>"
      ],
      "text/plain": [
       "    Record  Income  House\n",
       "0        1      12      0\n",
       "1        2      18      0\n",
       "2        3      21      0\n",
       "3        4      22      0\n",
       "4        5      22      0\n",
       "..     ...     ...    ...\n",
       "95      96      93      1\n",
       "96      97      93      1\n",
       "97      98      94      1\n",
       "98      99      95      1\n",
       "99     100      95      1\n",
       "\n",
       "[100 rows x 3 columns]"
      ]
     },
     "execution_count": 4,
     "metadata": {},
     "output_type": "execute_result"
    }
   ],
   "source": [
    "data"
   ]
  },
  {
   "cell_type": "code",
   "execution_count": 253,
   "metadata": {},
   "outputs": [
    {
     "data": {
      "image/png": "[encoded data removed]",
      "text/plain": [
       "<Figure size 720x504 with 1 Axes>"
      ]
     },
     "metadata": {
      "needs_background": "light"
     },
     "output_type": "display_data"
    }
   ],
   "source": [
    "model = ols('House ~ Income', data=data).fit()\n",
    "\n",
    "fig, ax = plt.subplots(figsize=(10, 7))\n",
    "ax.plot(np.arange(10, 100), np.arange(10, 100) * model.params[1] + model.params[0], color='r')\n",
    "ax.scatter(data.Income, data.House, marker='o', c='w', s=70, linewidths=1, edgecolor='k', alpha=0.3)\n",
    "plt.xlim(-9, 110)\n",
    "plt.ylim(-0.7, 1.2)\n",
    "plt.xticks(color='w')\n",
    "plt.yticks(color='w')\n",
    "plt.grid(None, axis='x')\n",
    "\n",
    "ax.spines['left'].set_color('k')\n",
    "ax.spines['left'].set_position('zero')\n",
    "\n",
    "ax.spines['bottom'].set_color('k')\n",
    "ax.spines['bottom'].set_position('zero')\n",
    "\n",
    "ax.set_yticks([round(-0.6 + (i*0.2),2) for i in range(0, 9)])\n",
    "ax.set_yticklabels(['']+[round(-0.4 + (i*0.2),2) for i in range(0, 8)])\n",
    "\n",
    "plt.text(2, 1.1, 'House', fontsize=15)\n",
    "plt.text(90, -0.2, 'Income', fontsize=15)\n",
    "plt.text(40, -0.6, 'o House', fontsize=15)\n",
    "plt.text(65, -0.6, '선형', fontsize=15)\n",
    "plt.plot([55, 63], [-0.58, -0.58], color='r')\n",
    "plt.show()"
   ]
  },
  {
   "cell_type": "code",
   "execution_count": 6,
   "metadata": {},
   "outputs": [
    {
     "name": "stdout",
     "output_type": "stream",
     "text": [
      "                            OLS Regression Results                            \n",
      "==============================================================================\n",
      "Dep. Variable:                  House   R-squared:                       0.714\n",
      "Model:                            OLS   Adj. R-squared:                  0.712\n",
      "Method:                 Least Squares   F-statistic:                     245.2\n",
      "Date:                Mon, 31 Jan 2022   Prob (F-statistic):           2.03e-28\n",
      "Time:                        21:12:04   Log-Likelihood:                -9.7372\n",
      "No. Observations:                 100   AIC:                             23.47\n",
      "Df Residuals:                      98   BIC:                             28.68\n",
      "Df Model:                           1                                         \n",
      "Covariance Type:            nonrobust                                         \n",
      "==============================================================================\n",
      "                 coef    std err          t      P>|t|      [0.025      0.975]\n",
      "------------------------------------------------------------------------------\n",
      "Intercept     -0.5625      0.075     -7.520      0.000      -0.711      -0.414\n",
      "Income         0.0175      0.001     15.658      0.000       0.015       0.020\n",
      "==============================================================================\n",
      "Omnibus:                        7.077   Durbin-Watson:                   1.840\n",
      "Prob(Omnibus):                  0.029   Jarque-Bera (JB):                6.567\n",
      "Skew:                          -0.550   Prob(JB):                       0.0375\n",
      "Kurtosis:                       3.604   Cond. No.                         185.\n",
      "==============================================================================\n",
      "\n",
      "Notes:\n",
      "[1] Standard Errors assume that the covariance matrix of the errors is correctly specified.\n"
     ]
    }
   ],
   "source": [
    "print(model.summary())"
   ]
  },
  {
   "cell_type": "code",
   "execution_count": null,
   "metadata": {},
   "outputs": [],
   "source": []
  },
  {
   "cell_type": "code",
   "execution_count": 242,
   "metadata": {},
   "outputs": [
    {
     "data": {
      "image/png": "[encoded data removed]",
      "text/plain": [
       "<Figure size 720x504 with 1 Axes>"
      ]
     },
     "metadata": {
      "needs_background": "light"
     },
     "output_type": "display_data"
    }
   ],
   "source": [
    "logit_model_1 = LogisticRegression()\n",
    "logit_model_1.fit(np.reshape(data.Income.values, (-1, 1)), data.House)\n",
    "\n",
    "fig, ax = plt.subplots(figsize=(10, 7))\n",
    "ax.plot(np.arange(10, 100), np.arange(10, 100) * model.params[1] + model.params[0], color='r', linestyle='--')\n",
    "ax.scatter(data.Income, data.House, marker='o', c='w', s=70, linewidths=1, edgecolor='k', alpha=0.3)\n",
    "xx = np.linspace(10, 100, 1000)\n",
    "ax.plot(xx, 1/(1+np.exp(-(xx*logit_model_1.coef_ + logit_model_1.intercept_)))[0], color='b')\n",
    "\n",
    "plt.xlim(-9, 110)\n",
    "plt.ylim(-0.7, 1.2)\n",
    "plt.xticks(color='w')\n",
    "plt.yticks(color='w')\n",
    "plt.grid(None, axis='x')\n",
    "\n",
    "ax.spines['left'].set_color('k')\n",
    "ax.spines['left'].set_position('zero')\n",
    "\n",
    "ax.spines['bottom'].set_color('k')\n",
    "ax.spines['bottom'].set_position('zero')\n",
    "\n",
    "ax.set_yticks([round(-0.6 + (i*0.2),2) for i in range(0, 9)])\n",
    "ax.set_yticklabels(['']+[round(-0.4 + (i*0.2),2) for i in range(0, 8)])\n",
    "\n",
    "plt.text(2, 1.1, 'House', fontsize=15)\n",
    "plt.text(90, -0.2, 'Income', fontsize=15)\n",
    "\n",
    "plt.text(20, -0.6, 'o House', fontsize=15)\n",
    "\n",
    "plt.plot([40, 48], [-0.58, -0.58], color='r', linestyle='--')\n",
    "plt.text(50, -0.6, '선형', fontsize=15)\n",
    "\n",
    "plt.plot([60, 68], [-0.58, -0.58], color='b')\n",
    "plt.text(70, -0.6, '로지스틱', fontsize=15)\n",
    "plt.show()"
   ]
  },
  {
   "cell_type": "code",
   "execution_count": null,
   "metadata": {},
   "outputs": [],
   "source": []
  },
  {
   "cell_type": "code",
   "execution_count": 243,
   "metadata": {},
   "outputs": [
    {
     "data": {
      "text/plain": [
       "array([[0.19795723]])"
      ]
     },
     "execution_count": 243,
     "metadata": {},
     "output_type": "execute_result"
    }
   ],
   "source": [
    "logit_model_1.coef_"
   ]
  },
  {
   "cell_type": "code",
   "execution_count": 244,
   "metadata": {},
   "outputs": [
    {
     "data": {
      "text/plain": [
       "array([-12.51673662])"
      ]
     },
     "execution_count": 244,
     "metadata": {},
     "output_type": "execute_result"
    }
   ],
   "source": [
    "logit_model_1.intercept_"
   ]
  },
  {
   "cell_type": "code",
   "execution_count": 219,
   "metadata": {},
   "outputs": [
    {
     "name": "stdout",
     "output_type": "stream",
     "text": [
      "Optimization terminated successfully.\n",
      "         Current function value: 0.179405\n",
      "         Iterations 9\n",
      "                           Logit Regression Results                           \n",
      "==============================================================================\n",
      "Dep. Variable:                  House   No. Observations:                  100\n",
      "Model:                          Logit   Df Residuals:                       98\n",
      "Method:                           MLE   Df Model:                            1\n",
      "Date:                Mon, 31 Jan 2022   Pseudo R-squ.:                  0.7405\n",
      "Time:                        23:12:36   Log-Likelihood:                -17.941\n",
      "converged:                       True   LL-Null:                       -69.135\n",
      "Covariance Type:            nonrobust   LLR p-value:                 4.564e-24\n",
      "==============================================================================\n",
      "                 coef    std err          z      P>|z|      [0.025      0.975]\n",
      "------------------------------------------------------------------------------\n",
      "Intercept    -12.5421      2.920     -4.295      0.000     -18.266      -6.819\n",
      "Income         0.1983      0.045      4.449      0.000       0.111       0.286\n",
      "==============================================================================\n"
     ]
    }
   ],
   "source": [
    "logit_model_2 = logit('House ~ Income', data=data).fit()\n",
    "print(logit_model_2.summary())"
   ]
  },
  {
   "cell_type": "code",
   "execution_count": 255,
   "metadata": {},
   "outputs": [
    {
     "data": {
      "text/plain": [
       "array([[9.99960582e-01, 3.94179503e-05],\n",
       "       [9.99870734e-01, 1.29266329e-04],\n",
       "       [9.99765925e-01, 2.34075031e-04],\n",
       "       [9.99714698e-01, 2.85301838e-04],\n",
       "       [9.99714698e-01, 2.85301838e-04],\n",
       "       [9.99652264e-01, 3.47735621e-04],\n",
       "       [9.99652264e-01, 3.47735621e-04],\n",
       "       [9.99576174e-01, 4.23826254e-04],\n",
       "       [9.99483442e-01, 5.16558244e-04],\n",
       "       [9.99370433e-01, 6.29566954e-04],\n",
       "       [9.99232720e-01, 7.67279876e-04],\n",
       "       [9.99064912e-01, 9.35088253e-04],\n",
       "       [9.99064912e-01, 9.35088253e-04],\n",
       "       [9.98611331e-01, 1.38866935e-03],\n",
       "       [9.98611331e-01, 1.38866935e-03],\n",
       "       [9.98307851e-01, 1.69214892e-03],\n",
       "       [9.97487968e-01, 2.51203235e-03],\n",
       "       [9.96939741e-01, 3.06025915e-03],\n",
       "       [9.96939741e-01, 3.06025915e-03],\n",
       "       [9.96272316e-01, 3.72768403e-03],\n",
       "       [9.93269562e-01, 6.73043846e-03],\n",
       "       [9.93269562e-01, 6.73043846e-03],\n",
       "       [9.91808269e-01, 8.19173113e-03],\n",
       "       [9.91808269e-01, 8.19173113e-03],\n",
       "       [9.90032888e-01, 9.96711158e-03],\n",
       "       [9.87877436e-01, 1.21225643e-02],\n",
       "       [9.85262791e-01, 1.47372092e-02],\n",
       "       [9.82094430e-01, 1.79055699e-02],\n",
       "       [9.78259932e-01, 2.17400680e-02],\n",
       "       [9.78259932e-01, 2.17400680e-02],\n",
       "       [9.68037390e-01, 3.19626098e-02],\n",
       "       [9.68037390e-01, 3.19626098e-02],\n",
       "       [9.53237811e-01, 4.67621885e-02],\n",
       "       [9.53237811e-01, 4.67621885e-02],\n",
       "       [9.32066508e-01, 6.79334917e-02],\n",
       "       [8.61409455e-01, 1.38590545e-01],\n",
       "       [8.61409455e-01, 1.38590545e-01],\n",
       "       [8.36044782e-01, 1.63955218e-01],\n",
       "       [8.36044782e-01, 1.63955218e-01],\n",
       "       [8.36044782e-01, 1.63955218e-01],\n",
       "       [8.36044782e-01, 1.63955218e-01],\n",
       "       [7.37926098e-01, 2.62073902e-01],\n",
       "       [7.37926098e-01, 2.62073902e-01],\n",
       "       [6.97887810e-01, 3.02112190e-01],\n",
       "       [5.60548454e-01, 4.39451546e-01],\n",
       "       [5.11355794e-01, 4.88644206e-01],\n",
       "       [4.13265185e-01, 5.86734815e-01],\n",
       "       [3.66226252e-01, 6.33773748e-01],\n",
       "       [3.21606678e-01, 6.78393322e-01],\n",
       "       [2.80021458e-01, 7.19978542e-01],\n",
       "       [2.80021458e-01, 7.19978542e-01],\n",
       "       [2.41896054e-01, 7.58103946e-01],\n",
       "       [2.41896054e-01, 7.58103946e-01],\n",
       "       [2.41896054e-01, 7.58103946e-01],\n",
       "       [2.41896054e-01, 7.58103946e-01],\n",
       "       [2.41896054e-01, 7.58103946e-01],\n",
       "       [2.07465720e-01, 7.92534280e-01],\n",
       "       [1.76793184e-01, 8.23206816e-01],\n",
       "       [8.86641545e-02, 9.11335846e-01],\n",
       "       [6.14581921e-02, 9.38541808e-01],\n",
       "       [5.09833374e-02, 9.49016663e-01],\n",
       "       [5.09833374e-02, 9.49016663e-01],\n",
       "       [4.22135037e-02, 9.57786496e-01],\n",
       "       [4.22135037e-02, 9.57786496e-01],\n",
       "       [4.22135037e-02, 9.57786496e-01],\n",
       "       [4.22135037e-02, 9.57786496e-01],\n",
       "       [4.22135037e-02, 9.57786496e-01],\n",
       "       [3.48967308e-02, 9.65103269e-01],\n",
       "       [3.48967308e-02, 9.65103269e-01],\n",
       "       [2.88100107e-02, 9.71189989e-01],\n",
       "       [2.88100107e-02, 9.71189989e-01],\n",
       "       [2.88100107e-02, 9.71189989e-01],\n",
       "       [1.61163892e-02, 9.83883611e-01],\n",
       "       [1.61163892e-02, 9.83883611e-01],\n",
       "       [1.32603464e-02, 9.86739654e-01],\n",
       "       [1.09048234e-02, 9.89095177e-01],\n",
       "       [1.09048234e-02, 9.89095177e-01],\n",
       "       [8.96392643e-03, 9.91036074e-01],\n",
       "       [8.96392643e-03, 9.91036074e-01],\n",
       "       [8.96392643e-03, 9.91036074e-01],\n",
       "       [8.96392643e-03, 9.91036074e-01],\n",
       "       [7.36590773e-03, 9.92634092e-01],\n",
       "       [6.05103187e-03, 9.93948968e-01],\n",
       "       [6.05103187e-03, 9.93948968e-01],\n",
       "       [6.05103187e-03, 9.93948968e-01],\n",
       "       [6.05103187e-03, 9.93948968e-01],\n",
       "       [6.05103187e-03, 9.93948968e-01],\n",
       "       [6.05103187e-03, 9.93948968e-01],\n",
       "       [4.96969718e-03, 9.95030303e-01],\n",
       "       [4.96969718e-03, 9.95030303e-01],\n",
       "       [4.96969718e-03, 9.95030303e-01],\n",
       "       [4.96969718e-03, 9.95030303e-01],\n",
       "       [4.96969718e-03, 9.95030303e-01],\n",
       "       [3.35036916e-03, 9.96649631e-01],\n",
       "       [2.75031430e-03, 9.97249686e-01],\n",
       "       [2.75031430e-03, 9.97249686e-01],\n",
       "       [2.75031430e-03, 9.97249686e-01],\n",
       "       [2.25748651e-03, 9.97742513e-01],\n",
       "       [1.85280427e-03, 9.98147196e-01],\n",
       "       [1.85280427e-03, 9.98147196e-01]])"
      ]
     },
     "execution_count": 255,
     "metadata": {},
     "output_type": "execute_result"
    }
   ],
   "source": [
    "logit_model_1.predict_proba(np.reshape(data.Income.values, (-1, 1)))"
   ]
  },
  {
   "cell_type": "code",
   "execution_count": 254,
   "metadata": {},
   "outputs": [
    {
     "ename": "ValueError",
     "evalue": "y should be a 1d array, got an array of shape (100, 2) instead.",
     "output_type": "error",
     "traceback": [
      "\u001b[1;31m---------------------------------------------------------------------------\u001b[0m",
      "\u001b[1;31mValueError\u001b[0m                                Traceback (most recent call last)",
      "\u001b[1;32m~\\AppData\\Local\\Temp/ipykernel_5608/3674904686.py\u001b[0m in \u001b[0;36m<module>\u001b[1;34m\u001b[0m\n\u001b[0;32m      1\u001b[0m \u001b[1;32mfrom\u001b[0m \u001b[0msklearn\u001b[0m\u001b[1;33m.\u001b[0m\u001b[0mmetrics\u001b[0m \u001b[1;32mimport\u001b[0m \u001b[0mroc_curve\u001b[0m\u001b[1;33m\u001b[0m\u001b[1;33m\u001b[0m\u001b[0m\n\u001b[1;32m----> 2\u001b[1;33m \u001b[0mfpr\u001b[0m\u001b[1;33m,\u001b[0m \u001b[0mtpr\u001b[0m\u001b[1;33m,\u001b[0m \u001b[0mthresholds\u001b[0m \u001b[1;33m=\u001b[0m \u001b[0mroc_curve\u001b[0m\u001b[1;33m(\u001b[0m\u001b[0mdata\u001b[0m\u001b[1;33m.\u001b[0m\u001b[0mHouse\u001b[0m\u001b[1;33m,\u001b[0m \u001b[0mlogit_model_1\u001b[0m\u001b[1;33m.\u001b[0m\u001b[0mpredict_proba\u001b[0m\u001b[1;33m(\u001b[0m\u001b[0mnp\u001b[0m\u001b[1;33m.\u001b[0m\u001b[0mreshape\u001b[0m\u001b[1;33m(\u001b[0m\u001b[0mdata\u001b[0m\u001b[1;33m.\u001b[0m\u001b[0mIncome\u001b[0m\u001b[1;33m.\u001b[0m\u001b[0mvalues\u001b[0m\u001b[1;33m,\u001b[0m \u001b[1;33m(\u001b[0m\u001b[1;33m-\u001b[0m\u001b[1;36m1\u001b[0m\u001b[1;33m,\u001b[0m \u001b[1;36m1\u001b[0m\u001b[1;33m)\u001b[0m\u001b[1;33m)\u001b[0m\u001b[1;33m)\u001b[0m\u001b[1;33m)\u001b[0m\u001b[1;33m\u001b[0m\u001b[1;33m\u001b[0m\u001b[0m\n\u001b[0m\u001b[0;32m      3\u001b[0m \u001b[0mplt\u001b[0m\u001b[1;33m.\u001b[0m\u001b[0mplot\u001b[0m\u001b[1;33m(\u001b[0m\u001b[0mfpr\u001b[0m\u001b[1;33m,\u001b[0m \u001b[0mtpr\u001b[0m\u001b[1;33m)\u001b[0m\u001b[1;33m\u001b[0m\u001b[1;33m\u001b[0m\u001b[0m\n\u001b[0;32m      4\u001b[0m \u001b[0mplt\u001b[0m\u001b[1;33m.\u001b[0m\u001b[0mshow\u001b[0m\u001b[1;33m(\u001b[0m\u001b[1;33m)\u001b[0m\u001b[1;33m\u001b[0m\u001b[1;33m\u001b[0m\u001b[0m\n",
      "\u001b[1;32m~\\anaconda3\\lib\\site-packages\\sklearn\\utils\\validation.py\u001b[0m in \u001b[0;36minner_f\u001b[1;34m(*args, **kwargs)\u001b[0m\n\u001b[0;32m     61\u001b[0m             \u001b[0mextra_args\u001b[0m \u001b[1;33m=\u001b[0m \u001b[0mlen\u001b[0m\u001b[1;33m(\u001b[0m\u001b[0margs\u001b[0m\u001b[1;33m)\u001b[0m \u001b[1;33m-\u001b[0m \u001b[0mlen\u001b[0m\u001b[1;33m(\u001b[0m\u001b[0mall_args\u001b[0m\u001b[1;33m)\u001b[0m\u001b[1;33m\u001b[0m\u001b[1;33m\u001b[0m\u001b[0m\n\u001b[0;32m     62\u001b[0m             \u001b[1;32mif\u001b[0m \u001b[0mextra_args\u001b[0m \u001b[1;33m<=\u001b[0m \u001b[1;36m0\u001b[0m\u001b[1;33m:\u001b[0m\u001b[1;33m\u001b[0m\u001b[1;33m\u001b[0m\u001b[0m\n\u001b[1;32m---> 63\u001b[1;33m                 \u001b[1;32mreturn\u001b[0m \u001b[0mf\u001b[0m\u001b[1;33m(\u001b[0m\u001b[1;33m*\u001b[0m\u001b[0margs\u001b[0m\u001b[1;33m,\u001b[0m \u001b[1;33m**\u001b[0m\u001b[0mkwargs\u001b[0m\u001b[1;33m)\u001b[0m\u001b[1;33m\u001b[0m\u001b[1;33m\u001b[0m\u001b[0m\n\u001b[0m\u001b[0;32m     64\u001b[0m \u001b[1;33m\u001b[0m\u001b[0m\n\u001b[0;32m     65\u001b[0m             \u001b[1;31m# extra_args > 0\u001b[0m\u001b[1;33m\u001b[0m\u001b[1;33m\u001b[0m\u001b[0m\n",
      "\u001b[1;32m~\\anaconda3\\lib\\site-packages\\sklearn\\metrics\\_ranking.py\u001b[0m in \u001b[0;36mroc_curve\u001b[1;34m(y_true, y_score, pos_label, sample_weight, drop_intermediate)\u001b[0m\n\u001b[0;32m    911\u001b[0m \u001b[1;33m\u001b[0m\u001b[0m\n\u001b[0;32m    912\u001b[0m     \"\"\"\n\u001b[1;32m--> 913\u001b[1;33m     fps, tps, thresholds = _binary_clf_curve(\n\u001b[0m\u001b[0;32m    914\u001b[0m         y_true, y_score, pos_label=pos_label, sample_weight=sample_weight)\n\u001b[0;32m    915\u001b[0m \u001b[1;33m\u001b[0m\u001b[0m\n",
      "\u001b[1;32m~\\anaconda3\\lib\\site-packages\\sklearn\\metrics\\_ranking.py\u001b[0m in \u001b[0;36m_binary_clf_curve\u001b[1;34m(y_true, y_score, pos_label, sample_weight)\u001b[0m\n\u001b[0;32m    693\u001b[0m     \u001b[0mcheck_consistent_length\u001b[0m\u001b[1;33m(\u001b[0m\u001b[0my_true\u001b[0m\u001b[1;33m,\u001b[0m \u001b[0my_score\u001b[0m\u001b[1;33m,\u001b[0m \u001b[0msample_weight\u001b[0m\u001b[1;33m)\u001b[0m\u001b[1;33m\u001b[0m\u001b[1;33m\u001b[0m\u001b[0m\n\u001b[0;32m    694\u001b[0m     \u001b[0my_true\u001b[0m \u001b[1;33m=\u001b[0m \u001b[0mcolumn_or_1d\u001b[0m\u001b[1;33m(\u001b[0m\u001b[0my_true\u001b[0m\u001b[1;33m)\u001b[0m\u001b[1;33m\u001b[0m\u001b[1;33m\u001b[0m\u001b[0m\n\u001b[1;32m--> 695\u001b[1;33m     \u001b[0my_score\u001b[0m \u001b[1;33m=\u001b[0m \u001b[0mcolumn_or_1d\u001b[0m\u001b[1;33m(\u001b[0m\u001b[0my_score\u001b[0m\u001b[1;33m)\u001b[0m\u001b[1;33m\u001b[0m\u001b[1;33m\u001b[0m\u001b[0m\n\u001b[0m\u001b[0;32m    696\u001b[0m     \u001b[0massert_all_finite\u001b[0m\u001b[1;33m(\u001b[0m\u001b[0my_true\u001b[0m\u001b[1;33m)\u001b[0m\u001b[1;33m\u001b[0m\u001b[1;33m\u001b[0m\u001b[0m\n\u001b[0;32m    697\u001b[0m     \u001b[0massert_all_finite\u001b[0m\u001b[1;33m(\u001b[0m\u001b[0my_score\u001b[0m\u001b[1;33m)\u001b[0m\u001b[1;33m\u001b[0m\u001b[1;33m\u001b[0m\u001b[0m\n",
      "\u001b[1;32m~\\anaconda3\\lib\\site-packages\\sklearn\\utils\\validation.py\u001b[0m in \u001b[0;36minner_f\u001b[1;34m(*args, **kwargs)\u001b[0m\n\u001b[0;32m     61\u001b[0m             \u001b[0mextra_args\u001b[0m \u001b[1;33m=\u001b[0m \u001b[0mlen\u001b[0m\u001b[1;33m(\u001b[0m\u001b[0margs\u001b[0m\u001b[1;33m)\u001b[0m \u001b[1;33m-\u001b[0m \u001b[0mlen\u001b[0m\u001b[1;33m(\u001b[0m\u001b[0mall_args\u001b[0m\u001b[1;33m)\u001b[0m\u001b[1;33m\u001b[0m\u001b[1;33m\u001b[0m\u001b[0m\n\u001b[0;32m     62\u001b[0m             \u001b[1;32mif\u001b[0m \u001b[0mextra_args\u001b[0m \u001b[1;33m<=\u001b[0m \u001b[1;36m0\u001b[0m\u001b[1;33m:\u001b[0m\u001b[1;33m\u001b[0m\u001b[1;33m\u001b[0m\u001b[0m\n\u001b[1;32m---> 63\u001b[1;33m                 \u001b[1;32mreturn\u001b[0m \u001b[0mf\u001b[0m\u001b[1;33m(\u001b[0m\u001b[1;33m*\u001b[0m\u001b[0margs\u001b[0m\u001b[1;33m,\u001b[0m \u001b[1;33m**\u001b[0m\u001b[0mkwargs\u001b[0m\u001b[1;33m)\u001b[0m\u001b[1;33m\u001b[0m\u001b[1;33m\u001b[0m\u001b[0m\n\u001b[0m\u001b[0;32m     64\u001b[0m \u001b[1;33m\u001b[0m\u001b[0m\n\u001b[0;32m     65\u001b[0m             \u001b[1;31m# extra_args > 0\u001b[0m\u001b[1;33m\u001b[0m\u001b[1;33m\u001b[0m\u001b[0m\n",
      "\u001b[1;32m~\\anaconda3\\lib\\site-packages\\sklearn\\utils\\validation.py\u001b[0m in \u001b[0;36mcolumn_or_1d\u001b[1;34m(y, warn)\u001b[0m\n\u001b[0;32m    919\u001b[0m         \u001b[1;32mreturn\u001b[0m \u001b[0mnp\u001b[0m\u001b[1;33m.\u001b[0m\u001b[0mravel\u001b[0m\u001b[1;33m(\u001b[0m\u001b[0my\u001b[0m\u001b[1;33m)\u001b[0m\u001b[1;33m\u001b[0m\u001b[1;33m\u001b[0m\u001b[0m\n\u001b[0;32m    920\u001b[0m \u001b[1;33m\u001b[0m\u001b[0m\n\u001b[1;32m--> 921\u001b[1;33m     raise ValueError(\n\u001b[0m\u001b[0;32m    922\u001b[0m         \u001b[1;34m\"y should be a 1d array, \"\u001b[0m\u001b[1;33m\u001b[0m\u001b[1;33m\u001b[0m\u001b[0m\n\u001b[0;32m    923\u001b[0m         \"got an array of shape {} instead.\".format(shape))\n",
      "\u001b[1;31mValueError\u001b[0m: y should be a 1d array, got an array of shape (100, 2) instead."
     ]
    }
   ],
   "source": [
    "from sklearn.metrics import roc_curve\n",
    "fpr, tpr, thresholds = roc_curve(data.House, )\n",
    "plt.plot(fpr, tpr)\n",
    "plt.show()"
   ]
  },
  {
   "cell_type": "code",
   "execution_count": 238,
   "metadata": {},
   "outputs": [
    {
     "data": {
      "image/png": "[encoded data removed]",
      "text/plain": [
       "<Figure size 432x288 with 1 Axes>"
      ]
     },
     "metadata": {
      "needs_background": "light"
     },
     "output_type": "display_data"
    }
   ],
   "source": [
    "fpr, tpr, thresholds = roc_curve(data.House, logit_model_2.predict(data.Income))\n",
    "plt.plot(fpr, tpr, 'o-')\n",
    "plt.show()"
   ]
  },
  {
   "cell_type": "code",
   "execution_count": 239,
   "metadata": {},
   "outputs": [
    {
     "data": {
      "text/plain": [
       "91.48936170212765"
      ]
     },
     "execution_count": 239,
     "metadata": {},
     "output_type": "execute_result"
    }
   ],
   "source": []
  }
 ],
 "metadata": {
  "kernelspec": {
   "display_name": "Python 3 (ipykernel)",
   "language": "python",
   "name": "python3"
  },
  "language_info": {
   "codemirror_mode": {
    "name": "ipython",
    "version": 3
   },
   "file_extension": ".py",
   "mimetype": "text/x-python",
   "name": "python",
   "nbconvert_exporter": "python",
   "pygments_lexer": "ipython3",
   "version": "3.9.7"
  }
 },
 "nbformat": 4,
 "nbformat_minor": 2
}
